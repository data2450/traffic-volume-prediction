{
  "nbformat": 4,
  "nbformat_minor": 0,
  "metadata": {
    "colab": {
      "name": "traffic volume prediction.ipynb",
      "provenance": [],
      "collapsed_sections": [],
      "toc_visible": true,
      "mount_file_id": "1oatupDLdzPY731ZX8PYfd5m-vhOK7DSN",
      "authorship_tag": "ABX9TyN71Ffavw970vlDIPPrVV3w",
      "include_colab_link": true
    },
    "kernelspec": {
      "name": "python3",
      "display_name": "Python 3"
    }
  },
  "cells": [
    {
      "cell_type": "markdown",
      "metadata": {
        "id": "view-in-github",
        "colab_type": "text"
      },
      "source": [
        "<a href=\"https://colab.research.google.com/github/data2450/traffic-volume-prediction/blob/main/traffic_volume_prediction.ipynb\" target=\"_parent\"><img src=\"https://colab.research.google.com/assets/colab-badge.svg\" alt=\"Open In Colab\"/></a>"
      ]
    },
    {
      "cell_type": "markdown",
      "metadata": {
        "id": "pxrllTWRXe9Q"
      },
      "source": [
        "libraries"
      ]
    },
    {
      "cell_type": "code",
      "metadata": {
        "id": "cHyqImZ2Xek7"
      },
      "source": [
        "import pandas as pd \r\n",
        "import numpy as np\r\n",
        "import matplotlib.pyplot as plt\r\n",
        "import seaborn as sns\r\n",
        "\r\n",
        "import plotly.express as ex\r\n",
        "import plotly.graph_objs as go"
      ],
      "execution_count": null,
      "outputs": []
    },
    {
      "cell_type": "code",
      "metadata": {
        "id": "uaPcxajqWZBj"
      },
      "source": [
        "url='https://raw.githubusercontent.com/data2450/traffic-volume-prediction/main/TRAIN.csv'\r\n",
        "url1='https://raw.githubusercontent.com/data2450/traffic-volume-prediction/main/TEST.csv'"
      ],
      "execution_count": null,
      "outputs": []
    },
    {
      "cell_type": "markdown",
      "metadata": {
        "id": "_c8kni7NYPvo"
      },
      "source": [
        "* date_time  >--   DateTime Hour of the data collected in local CST time\r\n",
        "\r\n",
        "* holiday >-- Categorical US National holidays plus regional holiday, Minnesota State Fair\r\n",
        "* temp >-- Numeric Average temp in kelvin\r\n",
        "\r\n",
        "* rain_1h >-- Numeric Amount in mm of rain that occurred in the hour\r\n",
        "\r\n",
        "* snow_1h >-- Numeric Amount in mm of snow that occurred in the hour\r\n",
        "\r\n",
        "* clouds_all >-- Numeric Percentage of cloud cover\r\n",
        "\r\n",
        "* weather_main >-- Categorical Short textual description of the current weather\r\n",
        "* weather_description >-- Categorical Longer textual description of the current weather\r\n",
        "\r\n",
        "* traffic_volume >-- Numeric Hourly I-94 ATR 301 reported westbound traffic volume (Target)"
      ]
    },
    {
      "cell_type": "code",
      "metadata": {
        "colab": {
          "base_uri": "https://localhost:8080/",
          "height": 204
        },
        "id": "TCEGJ1zCX2Qn",
        "outputId": "8634eb95-a346-43ac-8836-b85a8a96a231"
      },
      "source": [
        "train=pd.read_csv(url)\r\n",
        "train.head()"
      ],
      "execution_count": null,
      "outputs": [
        {
          "output_type": "execute_result",
          "data": {
            "text/html": [
              "<div>\n",
              "<style scoped>\n",
              "    .dataframe tbody tr th:only-of-type {\n",
              "        vertical-align: middle;\n",
              "    }\n",
              "\n",
              "    .dataframe tbody tr th {\n",
              "        vertical-align: top;\n",
              "    }\n",
              "\n",
              "    .dataframe thead th {\n",
              "        text-align: right;\n",
              "    }\n",
              "</style>\n",
              "<table border=\"1\" class=\"dataframe\">\n",
              "  <thead>\n",
              "    <tr style=\"text-align: right;\">\n",
              "      <th></th>\n",
              "      <th>date_time</th>\n",
              "      <th>holiday</th>\n",
              "      <th>temp</th>\n",
              "      <th>rain_1h</th>\n",
              "      <th>snow_1h</th>\n",
              "      <th>clouds_all</th>\n",
              "      <th>weather_main</th>\n",
              "      <th>weather_description</th>\n",
              "      <th>traffic_volume</th>\n",
              "    </tr>\n",
              "  </thead>\n",
              "  <tbody>\n",
              "    <tr>\n",
              "      <th>0</th>\n",
              "      <td>2012-10-02 09:00:00</td>\n",
              "      <td>None</td>\n",
              "      <td>288.28</td>\n",
              "      <td>0.0</td>\n",
              "      <td>0.0</td>\n",
              "      <td>40</td>\n",
              "      <td>Clouds</td>\n",
              "      <td>scattered clouds</td>\n",
              "      <td>5545</td>\n",
              "    </tr>\n",
              "    <tr>\n",
              "      <th>1</th>\n",
              "      <td>2012-10-02 10:00:00</td>\n",
              "      <td>None</td>\n",
              "      <td>289.36</td>\n",
              "      <td>0.0</td>\n",
              "      <td>0.0</td>\n",
              "      <td>75</td>\n",
              "      <td>Clouds</td>\n",
              "      <td>broken clouds</td>\n",
              "      <td>4516</td>\n",
              "    </tr>\n",
              "    <tr>\n",
              "      <th>2</th>\n",
              "      <td>2012-10-02 11:00:00</td>\n",
              "      <td>None</td>\n",
              "      <td>289.58</td>\n",
              "      <td>0.0</td>\n",
              "      <td>0.0</td>\n",
              "      <td>90</td>\n",
              "      <td>Clouds</td>\n",
              "      <td>overcast clouds</td>\n",
              "      <td>4767</td>\n",
              "    </tr>\n",
              "    <tr>\n",
              "      <th>3</th>\n",
              "      <td>2012-10-02 12:00:00</td>\n",
              "      <td>None</td>\n",
              "      <td>290.13</td>\n",
              "      <td>0.0</td>\n",
              "      <td>0.0</td>\n",
              "      <td>90</td>\n",
              "      <td>Clouds</td>\n",
              "      <td>overcast clouds</td>\n",
              "      <td>5026</td>\n",
              "    </tr>\n",
              "    <tr>\n",
              "      <th>4</th>\n",
              "      <td>2012-10-02 13:00:00</td>\n",
              "      <td>None</td>\n",
              "      <td>291.14</td>\n",
              "      <td>0.0</td>\n",
              "      <td>0.0</td>\n",
              "      <td>75</td>\n",
              "      <td>Clouds</td>\n",
              "      <td>broken clouds</td>\n",
              "      <td>4918</td>\n",
              "    </tr>\n",
              "  </tbody>\n",
              "</table>\n",
              "</div>"
            ],
            "text/plain": [
              "             date_time holiday  ...  weather_description  traffic_volume\n",
              "0  2012-10-02 09:00:00    None  ...     scattered clouds            5545\n",
              "1  2012-10-02 10:00:00    None  ...        broken clouds            4516\n",
              "2  2012-10-02 11:00:00    None  ...      overcast clouds            4767\n",
              "3  2012-10-02 12:00:00    None  ...      overcast clouds            5026\n",
              "4  2012-10-02 13:00:00    None  ...        broken clouds            4918\n",
              "\n",
              "[5 rows x 9 columns]"
            ]
          },
          "metadata": {
            "tags": []
          },
          "execution_count": 3
        }
      ]
    },
    {
      "cell_type": "code",
      "metadata": {
        "colab": {
          "base_uri": "https://localhost:8080/",
          "height": 204
        },
        "id": "rJiFJR_aX_sf",
        "outputId": "780e635c-5148-4641-fb4e-18c3e9d0d3ae"
      },
      "source": [
        "test=pd.read_csv(url1)\r\n",
        "test.head()"
      ],
      "execution_count": null,
      "outputs": [
        {
          "output_type": "execute_result",
          "data": {
            "text/html": [
              "<div>\n",
              "<style scoped>\n",
              "    .dataframe tbody tr th:only-of-type {\n",
              "        vertical-align: middle;\n",
              "    }\n",
              "\n",
              "    .dataframe tbody tr th {\n",
              "        vertical-align: top;\n",
              "    }\n",
              "\n",
              "    .dataframe thead th {\n",
              "        text-align: right;\n",
              "    }\n",
              "</style>\n",
              "<table border=\"1\" class=\"dataframe\">\n",
              "  <thead>\n",
              "    <tr style=\"text-align: right;\">\n",
              "      <th></th>\n",
              "      <th>date_time</th>\n",
              "      <th>holiday</th>\n",
              "      <th>temp</th>\n",
              "      <th>rain_1h</th>\n",
              "      <th>snow_1h</th>\n",
              "      <th>clouds_all</th>\n",
              "      <th>weather_main</th>\n",
              "      <th>weather_description</th>\n",
              "    </tr>\n",
              "  </thead>\n",
              "  <tbody>\n",
              "    <tr>\n",
              "      <th>0</th>\n",
              "      <td>2017-11-01 20:00:00</td>\n",
              "      <td>None</td>\n",
              "      <td>274.75</td>\n",
              "      <td>0.0</td>\n",
              "      <td>0.0</td>\n",
              "      <td>90</td>\n",
              "      <td>Mist</td>\n",
              "      <td>mist</td>\n",
              "    </tr>\n",
              "    <tr>\n",
              "      <th>1</th>\n",
              "      <td>2017-11-01 20:00:00</td>\n",
              "      <td>None</td>\n",
              "      <td>274.75</td>\n",
              "      <td>0.0</td>\n",
              "      <td>0.0</td>\n",
              "      <td>90</td>\n",
              "      <td>Rain</td>\n",
              "      <td>light rain</td>\n",
              "    </tr>\n",
              "    <tr>\n",
              "      <th>2</th>\n",
              "      <td>2017-11-01 21:00:00</td>\n",
              "      <td>None</td>\n",
              "      <td>274.79</td>\n",
              "      <td>0.0</td>\n",
              "      <td>0.0</td>\n",
              "      <td>90</td>\n",
              "      <td>Mist</td>\n",
              "      <td>mist</td>\n",
              "    </tr>\n",
              "    <tr>\n",
              "      <th>3</th>\n",
              "      <td>2017-11-01 21:00:00</td>\n",
              "      <td>None</td>\n",
              "      <td>274.79</td>\n",
              "      <td>0.0</td>\n",
              "      <td>0.0</td>\n",
              "      <td>90</td>\n",
              "      <td>Drizzle</td>\n",
              "      <td>drizzle</td>\n",
              "    </tr>\n",
              "    <tr>\n",
              "      <th>4</th>\n",
              "      <td>2017-11-01 22:00:00</td>\n",
              "      <td>None</td>\n",
              "      <td>275.08</td>\n",
              "      <td>0.0</td>\n",
              "      <td>0.0</td>\n",
              "      <td>90</td>\n",
              "      <td>Mist</td>\n",
              "      <td>mist</td>\n",
              "    </tr>\n",
              "  </tbody>\n",
              "</table>\n",
              "</div>"
            ],
            "text/plain": [
              "             date_time holiday  ...  weather_main  weather_description\n",
              "0  2017-11-01 20:00:00    None  ...          Mist                 mist\n",
              "1  2017-11-01 20:00:00    None  ...          Rain           light rain\n",
              "2  2017-11-01 21:00:00    None  ...          Mist                 mist\n",
              "3  2017-11-01 21:00:00    None  ...       Drizzle              drizzle\n",
              "4  2017-11-01 22:00:00    None  ...          Mist                 mist\n",
              "\n",
              "[5 rows x 8 columns]"
            ]
          },
          "metadata": {
            "tags": []
          },
          "execution_count": 4
        }
      ]
    },
    {
      "cell_type": "markdown",
      "metadata": {
        "id": "E6VbnAO3bJOP"
      },
      "source": [
        "#EDA"
      ]
    },
    {
      "cell_type": "code",
      "metadata": {
        "colab": {
          "base_uri": "https://localhost:8080/"
        },
        "id": "Egav9qbraF0R",
        "outputId": "3c3d60ac-16dc-43c9-aa9d-e945f040a6ed"
      },
      "source": [
        "print('shape of traindataset :',train.shape,'\\n')\r\n",
        "print('shape of testdataset :',test.shape)"
      ],
      "execution_count": null,
      "outputs": [
        {
          "output_type": "stream",
          "text": [
            "shape of traindataset : (38563, 9) \n",
            "\n",
            "shape of testdataset : (9641, 8)\n"
          ],
          "name": "stdout"
        }
      ]
    },
    {
      "cell_type": "code",
      "metadata": {
        "colab": {
          "base_uri": "https://localhost:8080/"
        },
        "id": "-2DBQbHbbLOn",
        "outputId": "4381e229-3eb7-4b44-f9a3-6c1a5b502cc2"
      },
      "source": [
        "train.info()\r\n",
        "#we have no missing values"
      ],
      "execution_count": null,
      "outputs": [
        {
          "output_type": "stream",
          "text": [
            "<class 'pandas.core.frame.DataFrame'>\n",
            "RangeIndex: 38563 entries, 0 to 38562\n",
            "Data columns (total 9 columns):\n",
            " #   Column               Non-Null Count  Dtype  \n",
            "---  ------               --------------  -----  \n",
            " 0   date_time            38563 non-null  object \n",
            " 1   holiday              38563 non-null  object \n",
            " 2   temp                 38563 non-null  float64\n",
            " 3   rain_1h              38563 non-null  float64\n",
            " 4   snow_1h              38563 non-null  float64\n",
            " 5   clouds_all           38563 non-null  int64  \n",
            " 6   weather_main         38563 non-null  object \n",
            " 7   weather_description  38563 non-null  object \n",
            " 8   traffic_volume       38563 non-null  int64  \n",
            "dtypes: float64(3), int64(2), object(4)\n",
            "memory usage: 2.6+ MB\n"
          ],
          "name": "stdout"
        }
      ]
    },
    {
      "cell_type": "code",
      "metadata": {
        "colab": {
          "base_uri": "https://localhost:8080/",
          "height": 297
        },
        "id": "O9110l2EbS7f",
        "outputId": "365dd613-0577-4eda-b869-eee6385ef673"
      },
      "source": [
        "#lets simply describe the traindataset\r\n",
        "train.describe()"
      ],
      "execution_count": null,
      "outputs": [
        {
          "output_type": "execute_result",
          "data": {
            "text/html": [
              "<div>\n",
              "<style scoped>\n",
              "    .dataframe tbody tr th:only-of-type {\n",
              "        vertical-align: middle;\n",
              "    }\n",
              "\n",
              "    .dataframe tbody tr th {\n",
              "        vertical-align: top;\n",
              "    }\n",
              "\n",
              "    .dataframe thead th {\n",
              "        text-align: right;\n",
              "    }\n",
              "</style>\n",
              "<table border=\"1\" class=\"dataframe\">\n",
              "  <thead>\n",
              "    <tr style=\"text-align: right;\">\n",
              "      <th></th>\n",
              "      <th>temp</th>\n",
              "      <th>rain_1h</th>\n",
              "      <th>snow_1h</th>\n",
              "      <th>clouds_all</th>\n",
              "      <th>traffic_volume</th>\n",
              "    </tr>\n",
              "  </thead>\n",
              "  <tbody>\n",
              "    <tr>\n",
              "      <th>count</th>\n",
              "      <td>38563.000000</td>\n",
              "      <td>38563.000000</td>\n",
              "      <td>38563.000000</td>\n",
              "      <td>38563.000000</td>\n",
              "      <td>38563.000000</td>\n",
              "    </tr>\n",
              "    <tr>\n",
              "      <th>mean</th>\n",
              "      <td>281.351757</td>\n",
              "      <td>0.392733</td>\n",
              "      <td>0.000278</td>\n",
              "      <td>49.920364</td>\n",
              "      <td>3260.940409</td>\n",
              "    </tr>\n",
              "    <tr>\n",
              "      <th>std</th>\n",
              "      <td>13.216927</td>\n",
              "      <td>50.075055</td>\n",
              "      <td>0.009131</td>\n",
              "      <td>38.849106</td>\n",
              "      <td>1991.628329</td>\n",
              "    </tr>\n",
              "    <tr>\n",
              "      <th>min</th>\n",
              "      <td>0.000000</td>\n",
              "      <td>0.000000</td>\n",
              "      <td>0.000000</td>\n",
              "      <td>0.000000</td>\n",
              "      <td>0.000000</td>\n",
              "    </tr>\n",
              "    <tr>\n",
              "      <th>25%</th>\n",
              "      <td>272.858000</td>\n",
              "      <td>0.000000</td>\n",
              "      <td>0.000000</td>\n",
              "      <td>1.000000</td>\n",
              "      <td>1186.500000</td>\n",
              "    </tr>\n",
              "    <tr>\n",
              "      <th>50%</th>\n",
              "      <td>282.750000</td>\n",
              "      <td>0.000000</td>\n",
              "      <td>0.000000</td>\n",
              "      <td>64.000000</td>\n",
              "      <td>3378.000000</td>\n",
              "    </tr>\n",
              "    <tr>\n",
              "      <th>75%</th>\n",
              "      <td>291.540000</td>\n",
              "      <td>0.000000</td>\n",
              "      <td>0.000000</td>\n",
              "      <td>90.000000</td>\n",
              "      <td>4939.000000</td>\n",
              "    </tr>\n",
              "    <tr>\n",
              "      <th>max</th>\n",
              "      <td>308.240000</td>\n",
              "      <td>9831.300000</td>\n",
              "      <td>0.510000</td>\n",
              "      <td>100.000000</td>\n",
              "      <td>7280.000000</td>\n",
              "    </tr>\n",
              "  </tbody>\n",
              "</table>\n",
              "</div>"
            ],
            "text/plain": [
              "               temp       rain_1h       snow_1h    clouds_all  traffic_volume\n",
              "count  38563.000000  38563.000000  38563.000000  38563.000000    38563.000000\n",
              "mean     281.351757      0.392733      0.000278     49.920364     3260.940409\n",
              "std       13.216927     50.075055      0.009131     38.849106     1991.628329\n",
              "min        0.000000      0.000000      0.000000      0.000000        0.000000\n",
              "25%      272.858000      0.000000      0.000000      1.000000     1186.500000\n",
              "50%      282.750000      0.000000      0.000000     64.000000     3378.000000\n",
              "75%      291.540000      0.000000      0.000000     90.000000     4939.000000\n",
              "max      308.240000   9831.300000      0.510000    100.000000     7280.000000"
            ]
          },
          "metadata": {
            "tags": []
          },
          "execution_count": 7
        }
      ]
    },
    {
      "cell_type": "code",
      "metadata": {
        "colab": {
          "base_uri": "https://localhost:8080/",
          "height": 173
        },
        "id": "QXnMooW04Ky5",
        "outputId": "c3033053-72b1-4f79-b442-b5a1ed49dde3"
      },
      "source": [
        "train.describe(include='object')"
      ],
      "execution_count": null,
      "outputs": [
        {
          "output_type": "execute_result",
          "data": {
            "text/html": [
              "<div>\n",
              "<style scoped>\n",
              "    .dataframe tbody tr th:only-of-type {\n",
              "        vertical-align: middle;\n",
              "    }\n",
              "\n",
              "    .dataframe tbody tr th {\n",
              "        vertical-align: top;\n",
              "    }\n",
              "\n",
              "    .dataframe thead th {\n",
              "        text-align: right;\n",
              "    }\n",
              "</style>\n",
              "<table border=\"1\" class=\"dataframe\">\n",
              "  <thead>\n",
              "    <tr style=\"text-align: right;\">\n",
              "      <th></th>\n",
              "      <th>date_time</th>\n",
              "      <th>holiday</th>\n",
              "      <th>weather_main</th>\n",
              "      <th>weather_description</th>\n",
              "    </tr>\n",
              "  </thead>\n",
              "  <tbody>\n",
              "    <tr>\n",
              "      <th>count</th>\n",
              "      <td>38563</td>\n",
              "      <td>38563</td>\n",
              "      <td>38563</td>\n",
              "      <td>38563</td>\n",
              "    </tr>\n",
              "    <tr>\n",
              "      <th>unique</th>\n",
              "      <td>32607</td>\n",
              "      <td>12</td>\n",
              "      <td>11</td>\n",
              "      <td>38</td>\n",
              "    </tr>\n",
              "    <tr>\n",
              "      <th>top</th>\n",
              "      <td>2013-05-19 10:00:00</td>\n",
              "      <td>None</td>\n",
              "      <td>Clouds</td>\n",
              "      <td>sky is clear</td>\n",
              "    </tr>\n",
              "    <tr>\n",
              "      <th>freq</th>\n",
              "      <td>6</td>\n",
              "      <td>38515</td>\n",
              "      <td>12680</td>\n",
              "      <td>8848</td>\n",
              "    </tr>\n",
              "  </tbody>\n",
              "</table>\n",
              "</div>"
            ],
            "text/plain": [
              "                  date_time holiday weather_main weather_description\n",
              "count                 38563   38563        38563               38563\n",
              "unique                32607      12           11                  38\n",
              "top     2013-05-19 10:00:00    None       Clouds        sky is clear\n",
              "freq                      6   38515        12680                8848"
            ]
          },
          "metadata": {
            "tags": []
          },
          "execution_count": 8
        }
      ]
    },
    {
      "cell_type": "code",
      "metadata": {
        "colab": {
          "base_uri": "https://localhost:8080/"
        },
        "id": "gDihbQv94UYH",
        "outputId": "15add7e1-0f0d-49d0-db52-e6b3aa71999a"
      },
      "source": [
        "print(\"max date :\" +train.date_time.max())\r\n",
        "print(\"min date :\" +train.date_time.min())"
      ],
      "execution_count": null,
      "outputs": [
        {
          "output_type": "stream",
          "text": [
            "max date :2017-11-01 20:00:00\n",
            "min date :2012-10-02 09:00:00\n"
          ],
          "name": "stdout"
        }
      ]
    },
    {
      "cell_type": "markdown",
      "metadata": {
        "id": "esZ5Kt254a5-"
      },
      "source": [
        "data is collected for 6 yeras"
      ]
    },
    {
      "cell_type": "markdown",
      "metadata": {
        "id": "g1eRWlk9bgS0"
      },
      "source": [
        "# Univariate Analysis"
      ]
    },
    {
      "cell_type": "code",
      "metadata": {
        "colab": {
          "base_uri": "https://localhost:8080/"
        },
        "id": "L_HLEF5kjLLA",
        "outputId": "0d97ab2f-f96e-464d-b033-81c22b55de61"
      },
      "source": [
        "train.nunique()\r\n",
        "#n.o of unique values in the columns"
      ],
      "execution_count": null,
      "outputs": [
        {
          "output_type": "execute_result",
          "data": {
            "text/plain": [
              "date_time              32607\n",
              "holiday                   12\n",
              "temp                    5670\n",
              "rain_1h                  353\n",
              "snow_1h                   12\n",
              "clouds_all                60\n",
              "weather_main              11\n",
              "weather_description       38\n",
              "traffic_volume          6568\n",
              "dtype: int64"
            ]
          },
          "metadata": {
            "tags": []
          },
          "execution_count": 10
        }
      ]
    },
    {
      "cell_type": "markdown",
      "metadata": {
        "id": "ij_lVbRLkiBR"
      },
      "source": [
        "**categorical variables**"
      ]
    },
    {
      "cell_type": "code",
      "metadata": {
        "colab": {
          "base_uri": "https://localhost:8080/",
          "height": 356
        },
        "id": "p06oeELclHXz",
        "outputId": "27a7638e-9459-435f-c12d-94083b15b5cf"
      },
      "source": [
        "#weather_description\r\n",
        "\r\n",
        "#print(train.weather_description.value_counts())\r\n",
        "#distribution\r\n",
        "plt.figure(figsize=(9,5))\r\n",
        "ax=sns.barplot(y=train['weather_description'].value_counts()[:10].index,x=train['weather_description'].value_counts()[:10].values,palette='mako')\r\n",
        "ax.set_title('Top 10 weather description',fontsize=16)\r\n",
        "ax.set_xlabel('Number Of specfic weather description',fontsize=14)\r\n",
        "plt.show()\r\n"
      ],
      "execution_count": null,
      "outputs": [
        {
          "output_type": "display_data",
          "data": {
            "image/png": "[encoded data removed]",
            "text/plain": [
              "<Figure size 648x360 with 1 Axes>"
            ]
          },
          "metadata": {
            "tags": [],
            "needs_background": "light"
          }
        }
      ]
    },
    {
      "cell_type": "code",
      "metadata": {
        "colab": {
          "base_uri": "https://localhost:8080/",
          "height": 555
        },
        "id": "HP41Z0KqbddP",
        "outputId": "21b87e4c-adff-465c-b3a9-4434bb6ac43a"
      },
      "source": [
        "\r\n",
        "#holiday\r\n",
        "\r\n",
        "print(train.holiday.value_counts())\r\n",
        "#distribution\r\n",
        "plt.figure(figsize=(9,5))\r\n",
        "sns.countplot(y = train.holiday)\r\n",
        "plt.show()\r\n"
      ],
      "execution_count": null,
      "outputs": [
        {
          "output_type": "stream",
          "text": [
            "None                         38515\n",
            "Labor Day                        5\n",
            "Thanksgiving Day                 5\n",
            "New Years Day                    5\n",
            "Christmas Day                    5\n",
            "Columbus Day                     5\n",
            "Independence Day                 4\n",
            "Veterans Day                     4\n",
            "State Fair                       4\n",
            "Washingtons Birthday             4\n",
            "Memorial Day                     4\n",
            "Martin Luther King Jr Day        3\n",
            "Name: holiday, dtype: int64\n"
          ],
          "name": "stdout"
        },
        {
          "output_type": "display_data",
          "data": {
            "image/png": "[encoded data removed]",
            "text/plain": [
              "<Figure size 648x360 with 1 Axes>"
            ]
          },
          "metadata": {
            "tags": [],
            "needs_background": "light"
          }
        }
      ]
    },
    {
      "cell_type": "markdown",
      "metadata": {
        "id": "MS43hb6Gk0xg"
      },
      "source": [
        "we have lot of normal days than the special days"
      ]
    },
    {
      "cell_type": "code",
      "metadata": {
        "colab": {
          "base_uri": "https://localhost:8080/",
          "height": 388
        },
        "id": "W3oQXV8V4nU-",
        "outputId": "577a9858-139d-4f05-c881-2cf13d29efc7"
      },
      "source": [
        "#'None' is far greater than the other days. Removing None data to visualize the others\r\n",
        "holidays = train.loc[train.holiday != 'None']\r\n",
        "plt.figure(figsize=(8,6))\r\n",
        "sns.countplot(y='holiday', data= holidays)\r\n",
        "plt.show()"
      ],
      "execution_count": null,
      "outputs": [
        {
          "output_type": "display_data",
          "data": {
            "image/png": "[encoded data removed]",
            "text/plain": [
              "<Figure size 576x432 with 1 Axes>"
            ]
          },
          "metadata": {
            "tags": [],
            "needs_background": "light"
          }
        }
      ]
    },
    {
      "cell_type": "code",
      "metadata": {
        "colab": {
          "base_uri": "https://localhost:8080/",
          "height": 538
        },
        "id": "bIdvxGvzbdYm",
        "outputId": "330a3bfc-2910-4d03-e1b8-ae4ddfe57a1b"
      },
      "source": [
        "#weather_main\r\n",
        "\r\n",
        "print(train.weather_main.value_counts())\r\n",
        "#distribution\r\n",
        "plt.figure(figsize=(9,5))\r\n",
        "sns.countplot(y= train.weather_main)\r\n",
        "plt.show()\r\n"
      ],
      "execution_count": null,
      "outputs": [
        {
          "output_type": "stream",
          "text": [
            "Clouds          12680\n",
            "Clear           10560\n",
            "Rain             4640\n",
            "Mist             4611\n",
            "Snow             2117\n",
            "Drizzle          1482\n",
            "Haze              993\n",
            "Thunderstorm      765\n",
            "Fog               693\n",
            "Smoke              18\n",
            "Squall              4\n",
            "Name: weather_main, dtype: int64\n"
          ],
          "name": "stdout"
        },
        {
          "output_type": "display_data",
          "data": {
            "image/png": "[encoded data removed]",
            "text/plain": [
              "<Figure size 648x360 with 1 Axes>"
            ]
          },
          "metadata": {
            "tags": [],
            "needs_background": "light"
          }
        }
      ]
    },
    {
      "cell_type": "markdown",
      "metadata": {
        "id": "_XSOMPnUnn-6"
      },
      "source": [
        "we have 38 type of weather_description in the dataset"
      ]
    },
    {
      "cell_type": "markdown",
      "metadata": {
        "id": "pMy6qwZKoraX"
      },
      "source": [
        "**numerical varibles**"
      ]
    },
    {
      "cell_type": "code",
      "metadata": {
        "colab": {
          "base_uri": "https://localhost:8080/",
          "height": 418
        },
        "id": "XHoMCdCAn6R8",
        "outputId": "7c35c156-83d2-469a-c64e-4d2fa859a77f"
      },
      "source": [
        "#temperature\r\n",
        "plt.subplot(121)\r\n",
        "sns.distplot(train['temp'],color=\"r\");\r\n",
        "\r\n",
        "plt.subplot(122)\r\n",
        "train['temp'].plot.box(figsize=(16,5))\r\n",
        "\r\n",
        "plt.show()\r\n",
        "#the temp feature have some outliers and its left skewed\r\n",
        "#we should remove that outlier\r\n"
      ],
      "execution_count": null,
      "outputs": [
        {
          "output_type": "stream",
          "text": [
            "/usr/local/lib/python3.6/dist-packages/seaborn/distributions.py:2551: FutureWarning:\n",
            "\n",
            "`distplot` is a deprecated function and will be removed in a future version. Please adapt your code to use either `displot` (a figure-level function with similar flexibility) or `histplot` (an axes-level function for histograms).\n",
            "\n"
          ],
          "name": "stderr"
        },
        {
          "output_type": "display_data",
          "data": {
            "image/png": "[encoded data removed]",
            "text/plain": [
              "<Figure size 1152x360 with 2 Axes>"
            ]
          },
          "metadata": {
            "tags": [],
            "needs_background": "light"
          }
        }
      ]
    },
    {
      "cell_type": "code",
      "metadata": {
        "colab": {
          "base_uri": "https://localhost:8080/",
          "height": 367
        },
        "id": "3Zu_Az9iwf1D",
        "outputId": "a0f78c42-7ae2-456e-e834-9d59d48cbb33"
      },
      "source": [
        "#Temperature is measured in Kelvin, changing to degree celsius to make it more intuitive\r\n",
        "#convert kelvin to celsius\r\n",
        "#(0K − 273.15)\r\n",
        "train['temp'] = (train['temp']-273.15)\r\n",
        "plt.figure(figsize=(6,4))\r\n",
        "sns.boxplot('temp', data = train)\r\n",
        "plt.show()"
      ],
      "execution_count": null,
      "outputs": [
        {
          "output_type": "stream",
          "text": [
            "/usr/local/lib/python3.6/dist-packages/seaborn/_decorators.py:43: FutureWarning:\n",
            "\n",
            "Pass the following variable as a keyword arg: x. From version 0.12, the only valid positional argument will be `data`, and passing other arguments without an explicit keyword will result in an error or misinterpretation.\n",
            "\n"
          ],
          "name": "stderr"
        },
        {
          "output_type": "display_data",
          "data": {
            "image/png": "[encoded data removed]",
            "text/plain": [
              "<Figure size 432x288 with 1 Axes>"
            ]
          },
          "metadata": {
            "tags": [],
            "needs_background": "light"
          }
        }
      ]
    },
    {
      "cell_type": "code",
      "metadata": {
        "colab": {
          "base_uri": "https://localhost:8080/"
        },
        "id": "cid7wOX0ysy3",
        "outputId": "b475f65e-027a-49aa-e2ed-766c3b675908"
      },
      "source": [
        "\r\n",
        "\r\n",
        "print('max threshold :',train['temp'].quantile(0.75))\r\n",
        "print('min threshold :',train['temp'].quantile(0.25))"
      ],
      "execution_count": null,
      "outputs": [
        {
          "output_type": "stream",
          "text": [
            "max threshold : 18.390000000000043\n",
            "min threshold : -0.29199999999997317\n"
          ],
          "name": "stdout"
        }
      ]
    },
    {
      "cell_type": "code",
      "metadata": {
        "colab": {
          "base_uri": "https://localhost:8080/",
          "height": 386
        },
        "id": "mKrvE7CupRBn",
        "outputId": "7908b3a1-5fa9-40f7-b2bb-0432f024f3f6"
      },
      "source": [
        "#rain_1h\r\n",
        "\r\n",
        "plt.subplot(121)\r\n",
        "sns.distplot(train['rain_1h'],color=\"b\");\r\n",
        "\r\n",
        "plt.subplot(122)\r\n",
        "train['rain_1h'].plot.box(figsize=(18,5))\r\n",
        "\r\n",
        "plt.show()\r\n",
        "#most of the observations are closer to zero"
      ],
      "execution_count": null,
      "outputs": [
        {
          "output_type": "stream",
          "text": [
            "/usr/local/lib/python3.6/dist-packages/seaborn/distributions.py:2551: FutureWarning:\n",
            "\n",
            "`distplot` is a deprecated function and will be removed in a future version. Please adapt your code to use either `displot` (a figure-level function with similar flexibility) or `histplot` (an axes-level function for histograms).\n",
            "\n"
          ],
          "name": "stderr"
        },
        {
          "output_type": "display_data",
          "data": {
            "image/png": "[encoded data removed]",
            "text/plain": [
              "<Figure size 1296x360 with 2 Axes>"
            ]
          },
          "metadata": {
            "tags": [],
            "needs_background": "light"
          }
        }
      ]
    },
    {
      "cell_type": "code",
      "metadata": {
        "colab": {
          "base_uri": "https://localhost:8080/",
          "height": 388
        },
        "id": "2QOWSq34qG1G",
        "outputId": "c04d2181-f8d6-4bea-8bbc-5f4fbf392f65"
      },
      "source": [
        "#snow_1h\r\n",
        "\r\n",
        "plt.subplot(121)\r\n",
        "sns.distplot(train['snow_1h'],color=\"m\");\r\n",
        "\r\n",
        "plt.subplot(122)\r\n",
        "train['snow_1h'].plot.box(figsize=(18,5))\r\n",
        "\r\n",
        "plt.show()\r\n",
        "#since majority of the hour is 0 snowfallrate ,we can see outliers"
      ],
      "execution_count": null,
      "outputs": [
        {
          "output_type": "stream",
          "text": [
            "/usr/local/lib/python3.6/dist-packages/seaborn/distributions.py:2551: FutureWarning:\n",
            "\n",
            "`distplot` is a deprecated function and will be removed in a future version. Please adapt your code to use either `displot` (a figure-level function with similar flexibility) or `histplot` (an axes-level function for histograms).\n",
            "\n"
          ],
          "name": "stderr"
        },
        {
          "output_type": "display_data",
          "data": {
            "image/png": "[encoded data removed]",
            "text/plain": [
              "<Figure size 1296x360 with 2 Axes>"
            ]
          },
          "metadata": {
            "tags": [],
            "needs_background": "light"
          }
        }
      ]
    },
    {
      "cell_type": "code",
      "metadata": {
        "id": "iPNZxgjoq50P",
        "colab": {
          "base_uri": "https://localhost:8080/",
          "height": 388
        },
        "outputId": "d6ef3e0b-413a-421b-d3de-1e6b82abe34f"
      },
      "source": [
        "#clouds_all\r\n",
        "\r\n",
        "plt.subplot(121)\r\n",
        "sns.distplot(train['clouds_all'],color=\"y\");\r\n",
        "\r\n",
        "plt.subplot(122)\r\n",
        "train['clouds_all'].plot.box(figsize=(18,5))\r\n",
        "\r\n",
        "plt.show()\r\n",
        "\r\n",
        "#here we have no outliers atall"
      ],
      "execution_count": null,
      "outputs": [
        {
          "output_type": "stream",
          "text": [
            "/usr/local/lib/python3.6/dist-packages/seaborn/distributions.py:2551: FutureWarning:\n",
            "\n",
            "`distplot` is a deprecated function and will be removed in a future version. Please adapt your code to use either `displot` (a figure-level function with similar flexibility) or `histplot` (an axes-level function for histograms).\n",
            "\n"
          ],
          "name": "stderr"
        },
        {
          "output_type": "display_data",
          "data": {
            "image/png": "[encoded data removed]",
            "text/plain": [
              "<Figure size 1296x360 with 2 Axes>"
            ]
          },
          "metadata": {
            "tags": [],
            "needs_background": "light"
          }
        }
      ]
    },
    {
      "cell_type": "code",
      "metadata": {
        "colab": {
          "base_uri": "https://localhost:8080/",
          "height": 384
        },
        "id": "v9L1p-Hi2TSQ",
        "outputId": "b20b58fc-296f-4c01-9bdc-07a4b66f27c0"
      },
      "source": [
        "#traffic_volume\r\n",
        "\r\n",
        "plt.subplot(121)\r\n",
        "sns.distplot(train['traffic_volume'],color=\"g\");\r\n",
        "\r\n",
        "plt.subplot(122)\r\n",
        "train['traffic_volume'].plot.box(figsize=(18,5))\r\n",
        "\r\n",
        "plt.show()\r\n"
      ],
      "execution_count": null,
      "outputs": [
        {
          "output_type": "stream",
          "text": [
            "/usr/local/lib/python3.6/dist-packages/seaborn/distributions.py:2551: FutureWarning:\n",
            "\n",
            "`distplot` is a deprecated function and will be removed in a future version. Please adapt your code to use either `displot` (a figure-level function with similar flexibility) or `histplot` (an axes-level function for histograms).\n",
            "\n"
          ],
          "name": "stderr"
        },
        {
          "output_type": "display_data",
          "data": {
            "image/png": "[encoded data removed]",
            "text/plain": [
              "<Figure size 1296x360 with 2 Axes>"
            ]
          },
          "metadata": {
            "tags": [],
            "needs_background": "light"
          }
        }
      ]
    },
    {
      "cell_type": "markdown",
      "metadata": {
        "id": "4A_hUdLC2vK1"
      },
      "source": [
        "# Bivariate Analysis\r\n",
        "Exploring variable with respect to target variable and categorical Independent variables\r\n",
        "\r\n",
        "**Categorical Independent Variable vs Target Variable**"
      ]
    },
    {
      "cell_type": "code",
      "metadata": {
        "colab": {
          "base_uri": "https://localhost:8080/",
          "height": 498
        },
        "id": "FVDcgUqd2mSG",
        "outputId": "02803873-1acc-4ca1-d297-22c44ceac5ae"
      },
      "source": [
        "#weather_description vs traffic_volume \r\n",
        "\r\n",
        "plt.figure(figsize=(12,8))\r\n",
        "sns.barplot(y='weather_description', x = 'traffic_volume', data = train)\r\n",
        "plt.show()"
      ],
      "execution_count": null,
      "outputs": [
        {
          "output_type": "display_data",
          "data": {
            "image/png": "[encoded data removed]",
            "text/plain": [
              "<Figure size 864x576 with 1 Axes>"
            ]
          },
          "metadata": {
            "tags": [],
            "needs_background": "light"
          }
        }
      ]
    },
    {
      "cell_type": "code",
      "metadata": {
        "id": "oXi_5oCe7qhx",
        "colab": {
          "base_uri": "https://localhost:8080/",
          "height": 498
        },
        "outputId": "3cb1309a-f157-4fb8-99cb-e8c0e7e1bf7a"
      },
      "source": [
        "#Exploring traffic volume on holidays\r\n",
        "plt.figure(figsize=(10,8))\r\n",
        "sns.boxplot(y='holiday',x='traffic_volume', data = holidays )\r\n",
        "plt.show()"
      ],
      "execution_count": null,
      "outputs": [
        {
          "output_type": "display_data",
          "data": {
            "image/png": "[encoded data removed]",
            "text/plain": [
              "<Figure size 720x576 with 1 Axes>"
            ]
          },
          "metadata": {
            "tags": [],
            "needs_background": "light"
          }
        }
      ]
    },
    {
      "cell_type": "code",
      "metadata": {
        "colab": {
          "base_uri": "https://localhost:8080/",
          "height": 389
        },
        "id": "d-txSU7inHVE",
        "outputId": "9f4950c6-6d4c-41cd-d576-db6aac3be6ae"
      },
      "source": [
        "#Plotting weather_main over traffic volume\r\n",
        "plt.figure(figsize=(8,6))\r\n",
        "sns.barplot(y='weather_main', x = 'traffic_volume', data = train)\r\n",
        "plt.show()"
      ],
      "execution_count": null,
      "outputs": [
        {
          "output_type": "display_data",
          "data": {
            "image/png": "[encoded data removed]",
            "text/plain": [
              "<Figure size 576x432 with 1 Axes>"
            ]
          },
          "metadata": {
            "tags": [],
            "needs_background": "light"
          }
        }
      ]
    },
    {
      "cell_type": "code",
      "metadata": {
        "colab": {
          "base_uri": "https://localhost:8080/",
          "height": 297
        },
        "id": "iiv6OhvaoCfu",
        "outputId": "5b8fccb1-928c-435a-e486-cd99e1fce315"
      },
      "source": [
        "train.describe()"
      ],
      "execution_count": null,
      "outputs": [
        {
          "output_type": "execute_result",
          "data": {
            "text/html": [
              "<div>\n",
              "<style scoped>\n",
              "    .dataframe tbody tr th:only-of-type {\n",
              "        vertical-align: middle;\n",
              "    }\n",
              "\n",
              "    .dataframe tbody tr th {\n",
              "        vertical-align: top;\n",
              "    }\n",
              "\n",
              "    .dataframe thead th {\n",
              "        text-align: right;\n",
              "    }\n",
              "</style>\n",
              "<table border=\"1\" class=\"dataframe\">\n",
              "  <thead>\n",
              "    <tr style=\"text-align: right;\">\n",
              "      <th></th>\n",
              "      <th>temp</th>\n",
              "      <th>rain_1h</th>\n",
              "      <th>snow_1h</th>\n",
              "      <th>clouds_all</th>\n",
              "      <th>traffic_volume</th>\n",
              "    </tr>\n",
              "  </thead>\n",
              "  <tbody>\n",
              "    <tr>\n",
              "      <th>count</th>\n",
              "      <td>38563.000000</td>\n",
              "      <td>38563.000000</td>\n",
              "      <td>38563.000000</td>\n",
              "      <td>38563.000000</td>\n",
              "      <td>38563.000000</td>\n",
              "    </tr>\n",
              "    <tr>\n",
              "      <th>mean</th>\n",
              "      <td>8.201757</td>\n",
              "      <td>0.392733</td>\n",
              "      <td>0.000278</td>\n",
              "      <td>49.920364</td>\n",
              "      <td>3260.940409</td>\n",
              "    </tr>\n",
              "    <tr>\n",
              "      <th>std</th>\n",
              "      <td>13.216927</td>\n",
              "      <td>50.075055</td>\n",
              "      <td>0.009131</td>\n",
              "      <td>38.849106</td>\n",
              "      <td>1991.628329</td>\n",
              "    </tr>\n",
              "    <tr>\n",
              "      <th>min</th>\n",
              "      <td>-273.150000</td>\n",
              "      <td>0.000000</td>\n",
              "      <td>0.000000</td>\n",
              "      <td>0.000000</td>\n",
              "      <td>0.000000</td>\n",
              "    </tr>\n",
              "    <tr>\n",
              "      <th>25%</th>\n",
              "      <td>-0.292000</td>\n",
              "      <td>0.000000</td>\n",
              "      <td>0.000000</td>\n",
              "      <td>1.000000</td>\n",
              "      <td>1186.500000</td>\n",
              "    </tr>\n",
              "    <tr>\n",
              "      <th>50%</th>\n",
              "      <td>9.600000</td>\n",
              "      <td>0.000000</td>\n",
              "      <td>0.000000</td>\n",
              "      <td>64.000000</td>\n",
              "      <td>3378.000000</td>\n",
              "    </tr>\n",
              "    <tr>\n",
              "      <th>75%</th>\n",
              "      <td>18.390000</td>\n",
              "      <td>0.000000</td>\n",
              "      <td>0.000000</td>\n",
              "      <td>90.000000</td>\n",
              "      <td>4939.000000</td>\n",
              "    </tr>\n",
              "    <tr>\n",
              "      <th>max</th>\n",
              "      <td>35.090000</td>\n",
              "      <td>9831.300000</td>\n",
              "      <td>0.510000</td>\n",
              "      <td>100.000000</td>\n",
              "      <td>7280.000000</td>\n",
              "    </tr>\n",
              "  </tbody>\n",
              "</table>\n",
              "</div>"
            ],
            "text/plain": [
              "               temp       rain_1h       snow_1h    clouds_all  traffic_volume\n",
              "count  38563.000000  38563.000000  38563.000000  38563.000000    38563.000000\n",
              "mean       8.201757      0.392733      0.000278     49.920364     3260.940409\n",
              "std       13.216927     50.075055      0.009131     38.849106     1991.628329\n",
              "min     -273.150000      0.000000      0.000000      0.000000        0.000000\n",
              "25%       -0.292000      0.000000      0.000000      1.000000     1186.500000\n",
              "50%        9.600000      0.000000      0.000000     64.000000     3378.000000\n",
              "75%       18.390000      0.000000      0.000000     90.000000     4939.000000\n",
              "max       35.090000   9831.300000      0.510000    100.000000     7280.000000"
            ]
          },
          "metadata": {
            "tags": []
          },
          "execution_count": 25
        }
      ]
    },
    {
      "cell_type": "code",
      "metadata": {
        "id": "B_Xwsqjrnk4b"
      },
      "source": [
        "features_n=['temp','rain_1h','snow_1h','clouds_all','traffic_volume']"
      ],
      "execution_count": null,
      "outputs": []
    },
    {
      "cell_type": "code",
      "metadata": {
        "colab": {
          "base_uri": "https://localhost:8080/",
          "height": 1000
        },
        "id": "AKPeQcqNoeuD",
        "outputId": "f077c9ac-6eb6-4e8b-b35b-639e4f89d9f1"
      },
      "source": [
        "for feature in features_n:\r\n",
        "        data=train.copy()\r\n",
        "        plt.figure(figsize=(10,6))\r\n",
        "        plt.scatter(data[feature],data['traffic_volume'],alpha=0.3)\r\n",
        "        plt.xlabel(feature)\r\n",
        "        plt.ylabel('traffic_volume')\r\n",
        "        plt.show()"
      ],
      "execution_count": null,
      "outputs": [
        {
          "output_type": "display_data",
          "data": {
            "image/png": "[encoded data removed]",
            "text/plain": [
              "<Figure size 720x432 with 1 Axes>"
            ]
          },
          "metadata": {
            "tags": [],
            "needs_background": "light"
          }
        },
        {
          "output_type": "display_data",
          "data": {
            "image/png": "[encoded data removed]",
            "text/plain": [
              "<Figure size 720x432 with 1 Axes>"
            ]
          },
          "metadata": {
            "tags": [],
            "needs_background": "light"
          }
        },
        {
          "output_type": "display_data",
          "data": {
            "image/png": "[encoded data removed]",
            "text/plain": [
              "<Figure size 720x432 with 1 Axes>"
            ]
          },
          "metadata": {
            "tags": [],
            "needs_background": "light"
          }
        },
        {
          "output_type": "display_data",
          "data": {
            "image/png": "[encoded data removed]",
            "text/plain": [
              "<Figure size 720x432 with 1 Axes>"
            ]
          },
          "metadata": {
            "tags": [],
            "needs_background": "light"
          }
        },
        {
          "output_type": "display_data",
          "data": {
            "image/png": "[encoded data removed]",
            "text/plain": [
              "<Figure size 720x432 with 1 Axes>"
            ]
          },
          "metadata": {
            "tags": [],
            "needs_background": "light"
          }
        }
      ]
    },
    {
      "cell_type": "code",
      "metadata": {
        "colab": {
          "base_uri": "https://localhost:8080/",
          "height": 388
        },
        "id": "HgcTVQGX2bQp",
        "outputId": "83b73e6f-c1c9-4840-93a0-92613b38522a"
      },
      "source": [
        "plt.figure(figsize=(10,6))\r\n",
        "data=train.loc[train.temp>-50]\r\n",
        "plt.scatter(data['temp'],data['traffic_volume'],alpha=0.3)\r\n",
        "plt.xlabel('temp')\r\n",
        "plt.ylabel('traffic_volume')\r\n",
        "plt.show()"
      ],
      "execution_count": null,
      "outputs": [
        {
          "output_type": "display_data",
          "data": {
            "image/png": "[encoded data removed]",
            "text/plain": [
              "<Figure size 720x432 with 1 Axes>"
            ]
          },
          "metadata": {
            "tags": [],
            "needs_background": "light"
          }
        }
      ]
    },
    {
      "cell_type": "code",
      "metadata": {
        "colab": {
          "base_uri": "https://localhost:8080/",
          "height": 543
        },
        "id": "8GnmmGvzpyIP",
        "outputId": "974cd823-fe3b-4b92-a7d7-2f5b6fa1ef89"
      },
      "source": [
        "#lets plot coorelation\r\n",
        "plt.figure(figsize = (12,9))\r\n",
        "sns.heatmap(train.corr(), annot = True, cmap = \"RdYlGn\")\r\n",
        "\r\n",
        "plt.show()"
      ],
      "execution_count": null,
      "outputs": [
        {
          "output_type": "display_data",
          "data": {
            "image/png": "[encoded data removed]",
            "text/plain": [
              "<Figure size 864x648 with 2 Axes>"
            ]
          },
          "metadata": {
            "tags": [],
            "needs_background": "light"
          }
        }
      ]
    },
    {
      "cell_type": "markdown",
      "metadata": {
        "id": "I1zlphHDrN4b"
      },
      "source": [
        "# Feature engineering and Data cleaning"
      ]
    },
    {
      "cell_type": "code",
      "metadata": {
        "id": "OXdgmP6trPdQ"
      },
      "source": [
        "#copying data to new data frame\r\n",
        "df = train.copy()"
      ],
      "execution_count": null,
      "outputs": []
    },
    {
      "cell_type": "code",
      "metadata": {
        "colab": {
          "base_uri": "https://localhost:8080/"
        },
        "id": "L7qPTLK-rlGr",
        "outputId": "7a7ee336-b72b-44b8-a1d4-9b1d0e4aadf5"
      },
      "source": [
        "df.columns"
      ],
      "execution_count": null,
      "outputs": [
        {
          "output_type": "execute_result",
          "data": {
            "text/plain": [
              "Index(['date_time', 'holiday', 'temp', 'rain_1h', 'snow_1h', 'clouds_all',\n",
              "       'weather_main', 'weather_description', 'traffic_volume'],\n",
              "      dtype='object')"
            ]
          },
          "metadata": {
            "tags": []
          },
          "execution_count": 31
        }
      ]
    },
    {
      "cell_type": "code",
      "metadata": {
        "id": "KMUBdz3drZIC"
      },
      "source": [
        "#Extracting features from date_time variable\r\n",
        "df['date_time'] = pd.to_datetime(df.date_time)\r\n",
        "df['weekday'] = df.date_time.dt.weekday\r\n",
        "df['date'] = df.date_time.dt.date\r\n",
        "df['hour'] = df.date_time.dt.hour\r\n",
        "df['month'] = df.date_time.dt.month\r\n",
        "df['year'] = df.date_time.dt.year\r\n",
        "#Monday is 0 and Sunday is 6"
      ],
      "execution_count": null,
      "outputs": []
    },
    {
      "cell_type": "code",
      "metadata": {
        "colab": {
          "base_uri": "https://localhost:8080/",
          "height": 394
        },
        "id": "HIwsgZmjr_YN",
        "outputId": "3e1fc382-791f-441c-9054-74c72c240c37"
      },
      "source": [
        "df.head()"
      ],
      "execution_count": null,
      "outputs": [
        {
          "output_type": "execute_result",
          "data": {
            "text/html": [
              "<div>\n",
              "<style scoped>\n",
              "    .dataframe tbody tr th:only-of-type {\n",
              "        vertical-align: middle;\n",
              "    }\n",
              "\n",
              "    .dataframe tbody tr th {\n",
              "        vertical-align: top;\n",
              "    }\n",
              "\n",
              "    .dataframe thead th {\n",
              "        text-align: right;\n",
              "    }\n",
              "</style>\n",
              "<table border=\"1\" class=\"dataframe\">\n",
              "  <thead>\n",
              "    <tr style=\"text-align: right;\">\n",
              "      <th></th>\n",
              "      <th>date_time</th>\n",
              "      <th>holiday</th>\n",
              "      <th>temp</th>\n",
              "      <th>rain_1h</th>\n",
              "      <th>snow_1h</th>\n",
              "      <th>clouds_all</th>\n",
              "      <th>weather_main</th>\n",
              "      <th>weather_description</th>\n",
              "      <th>traffic_volume</th>\n",
              "      <th>weekday</th>\n",
              "      <th>date</th>\n",
              "      <th>hour</th>\n",
              "      <th>month</th>\n",
              "      <th>year</th>\n",
              "    </tr>\n",
              "  </thead>\n",
              "  <tbody>\n",
              "    <tr>\n",
              "      <th>0</th>\n",
              "      <td>2012-10-02 09:00:00</td>\n",
              "      <td>None</td>\n",
              "      <td>15.13</td>\n",
              "      <td>0.0</td>\n",
              "      <td>0.0</td>\n",
              "      <td>40</td>\n",
              "      <td>Clouds</td>\n",
              "      <td>scattered clouds</td>\n",
              "      <td>5545</td>\n",
              "      <td>1</td>\n",
              "      <td>2012-10-02</td>\n",
              "      <td>9</td>\n",
              "      <td>10</td>\n",
              "      <td>2012</td>\n",
              "    </tr>\n",
              "    <tr>\n",
              "      <th>1</th>\n",
              "      <td>2012-10-02 10:00:00</td>\n",
              "      <td>None</td>\n",
              "      <td>16.21</td>\n",
              "      <td>0.0</td>\n",
              "      <td>0.0</td>\n",
              "      <td>75</td>\n",
              "      <td>Clouds</td>\n",
              "      <td>broken clouds</td>\n",
              "      <td>4516</td>\n",
              "      <td>1</td>\n",
              "      <td>2012-10-02</td>\n",
              "      <td>10</td>\n",
              "      <td>10</td>\n",
              "      <td>2012</td>\n",
              "    </tr>\n",
              "    <tr>\n",
              "      <th>2</th>\n",
              "      <td>2012-10-02 11:00:00</td>\n",
              "      <td>None</td>\n",
              "      <td>16.43</td>\n",
              "      <td>0.0</td>\n",
              "      <td>0.0</td>\n",
              "      <td>90</td>\n",
              "      <td>Clouds</td>\n",
              "      <td>overcast clouds</td>\n",
              "      <td>4767</td>\n",
              "      <td>1</td>\n",
              "      <td>2012-10-02</td>\n",
              "      <td>11</td>\n",
              "      <td>10</td>\n",
              "      <td>2012</td>\n",
              "    </tr>\n",
              "    <tr>\n",
              "      <th>3</th>\n",
              "      <td>2012-10-02 12:00:00</td>\n",
              "      <td>None</td>\n",
              "      <td>16.98</td>\n",
              "      <td>0.0</td>\n",
              "      <td>0.0</td>\n",
              "      <td>90</td>\n",
              "      <td>Clouds</td>\n",
              "      <td>overcast clouds</td>\n",
              "      <td>5026</td>\n",
              "      <td>1</td>\n",
              "      <td>2012-10-02</td>\n",
              "      <td>12</td>\n",
              "      <td>10</td>\n",
              "      <td>2012</td>\n",
              "    </tr>\n",
              "    <tr>\n",
              "      <th>4</th>\n",
              "      <td>2012-10-02 13:00:00</td>\n",
              "      <td>None</td>\n",
              "      <td>17.99</td>\n",
              "      <td>0.0</td>\n",
              "      <td>0.0</td>\n",
              "      <td>75</td>\n",
              "      <td>Clouds</td>\n",
              "      <td>broken clouds</td>\n",
              "      <td>4918</td>\n",
              "      <td>1</td>\n",
              "      <td>2012-10-02</td>\n",
              "      <td>13</td>\n",
              "      <td>10</td>\n",
              "      <td>2012</td>\n",
              "    </tr>\n",
              "  </tbody>\n",
              "</table>\n",
              "</div>"
            ],
            "text/plain": [
              "            date_time holiday   temp  rain_1h  ...        date  hour month  year\n",
              "0 2012-10-02 09:00:00    None  15.13      0.0  ...  2012-10-02     9    10  2012\n",
              "1 2012-10-02 10:00:00    None  16.21      0.0  ...  2012-10-02    10    10  2012\n",
              "2 2012-10-02 11:00:00    None  16.43      0.0  ...  2012-10-02    11    10  2012\n",
              "3 2012-10-02 12:00:00    None  16.98      0.0  ...  2012-10-02    12    10  2012\n",
              "4 2012-10-02 13:00:00    None  17.99      0.0  ...  2012-10-02    13    10  2012\n",
              "\n",
              "[5 rows x 14 columns]"
            ]
          },
          "metadata": {
            "tags": []
          },
          "execution_count": 33
        }
      ]
    },
    {
      "cell_type": "code",
      "metadata": {
        "id": "3KfWNGuVsGq7"
      },
      "source": [
        "#categorizing hours to different time periods like morning, afternoon etc\r\n",
        "def hour_modify(x):\r\n",
        "    Early_Morning = [4,5,6,7]\r\n",
        "    Morning = [8,9,10,11]\r\n",
        "    Afternoon = [12,13,14,15]\r\n",
        "    Evening = [16,17,18,19]\r\n",
        "    Night = [20,21,22,23]\r\n",
        "    Late_Night = [24,1,2,3]\r\n",
        "    if x in Early_Morning:\r\n",
        "        return 'Early_Morning'\r\n",
        "    elif x in Morning:\r\n",
        "        return 'Morning'\r\n",
        "    elif x in Afternoon:\r\n",
        "        return 'Afternoon'\r\n",
        "    elif x in Evening:\r\n",
        "        return 'Evening'\r\n",
        "    elif x in Night:\r\n",
        "        return 'Night'\r\n",
        "    else:\r\n",
        "        return 'Late_Night'\r\n",
        "    \r\n",
        "df['hour'] = df.hour.map(hour_modify)"
      ],
      "execution_count": null,
      "outputs": []
    },
    {
      "cell_type": "code",
      "metadata": {
        "colab": {
          "base_uri": "https://localhost:8080/",
          "height": 394
        },
        "id": "q4J1SiJwsxVL",
        "outputId": "0307d686-83e1-46f7-87b2-bd3c90d0b81e"
      },
      "source": [
        "df.head()"
      ],
      "execution_count": null,
      "outputs": [
        {
          "output_type": "execute_result",
          "data": {
            "text/html": [
              "<div>\n",
              "<style scoped>\n",
              "    .dataframe tbody tr th:only-of-type {\n",
              "        vertical-align: middle;\n",
              "    }\n",
              "\n",
              "    .dataframe tbody tr th {\n",
              "        vertical-align: top;\n",
              "    }\n",
              "\n",
              "    .dataframe thead th {\n",
              "        text-align: right;\n",
              "    }\n",
              "</style>\n",
              "<table border=\"1\" class=\"dataframe\">\n",
              "  <thead>\n",
              "    <tr style=\"text-align: right;\">\n",
              "      <th></th>\n",
              "      <th>date_time</th>\n",
              "      <th>holiday</th>\n",
              "      <th>temp</th>\n",
              "      <th>rain_1h</th>\n",
              "      <th>snow_1h</th>\n",
              "      <th>clouds_all</th>\n",
              "      <th>weather_main</th>\n",
              "      <th>weather_description</th>\n",
              "      <th>traffic_volume</th>\n",
              "      <th>weekday</th>\n",
              "      <th>date</th>\n",
              "      <th>hour</th>\n",
              "      <th>month</th>\n",
              "      <th>year</th>\n",
              "    </tr>\n",
              "  </thead>\n",
              "  <tbody>\n",
              "    <tr>\n",
              "      <th>0</th>\n",
              "      <td>2012-10-02 09:00:00</td>\n",
              "      <td>None</td>\n",
              "      <td>15.13</td>\n",
              "      <td>0.0</td>\n",
              "      <td>0.0</td>\n",
              "      <td>40</td>\n",
              "      <td>Clouds</td>\n",
              "      <td>scattered clouds</td>\n",
              "      <td>5545</td>\n",
              "      <td>1</td>\n",
              "      <td>2012-10-02</td>\n",
              "      <td>Morning</td>\n",
              "      <td>10</td>\n",
              "      <td>2012</td>\n",
              "    </tr>\n",
              "    <tr>\n",
              "      <th>1</th>\n",
              "      <td>2012-10-02 10:00:00</td>\n",
              "      <td>None</td>\n",
              "      <td>16.21</td>\n",
              "      <td>0.0</td>\n",
              "      <td>0.0</td>\n",
              "      <td>75</td>\n",
              "      <td>Clouds</td>\n",
              "      <td>broken clouds</td>\n",
              "      <td>4516</td>\n",
              "      <td>1</td>\n",
              "      <td>2012-10-02</td>\n",
              "      <td>Morning</td>\n",
              "      <td>10</td>\n",
              "      <td>2012</td>\n",
              "    </tr>\n",
              "    <tr>\n",
              "      <th>2</th>\n",
              "      <td>2012-10-02 11:00:00</td>\n",
              "      <td>None</td>\n",
              "      <td>16.43</td>\n",
              "      <td>0.0</td>\n",
              "      <td>0.0</td>\n",
              "      <td>90</td>\n",
              "      <td>Clouds</td>\n",
              "      <td>overcast clouds</td>\n",
              "      <td>4767</td>\n",
              "      <td>1</td>\n",
              "      <td>2012-10-02</td>\n",
              "      <td>Morning</td>\n",
              "      <td>10</td>\n",
              "      <td>2012</td>\n",
              "    </tr>\n",
              "    <tr>\n",
              "      <th>3</th>\n",
              "      <td>2012-10-02 12:00:00</td>\n",
              "      <td>None</td>\n",
              "      <td>16.98</td>\n",
              "      <td>0.0</td>\n",
              "      <td>0.0</td>\n",
              "      <td>90</td>\n",
              "      <td>Clouds</td>\n",
              "      <td>overcast clouds</td>\n",
              "      <td>5026</td>\n",
              "      <td>1</td>\n",
              "      <td>2012-10-02</td>\n",
              "      <td>Afternoon</td>\n",
              "      <td>10</td>\n",
              "      <td>2012</td>\n",
              "    </tr>\n",
              "    <tr>\n",
              "      <th>4</th>\n",
              "      <td>2012-10-02 13:00:00</td>\n",
              "      <td>None</td>\n",
              "      <td>17.99</td>\n",
              "      <td>0.0</td>\n",
              "      <td>0.0</td>\n",
              "      <td>75</td>\n",
              "      <td>Clouds</td>\n",
              "      <td>broken clouds</td>\n",
              "      <td>4918</td>\n",
              "      <td>1</td>\n",
              "      <td>2012-10-02</td>\n",
              "      <td>Afternoon</td>\n",
              "      <td>10</td>\n",
              "      <td>2012</td>\n",
              "    </tr>\n",
              "  </tbody>\n",
              "</table>\n",
              "</div>"
            ],
            "text/plain": [
              "            date_time holiday   temp  ...       hour  month  year\n",
              "0 2012-10-02 09:00:00    None  15.13  ...    Morning     10  2012\n",
              "1 2012-10-02 10:00:00    None  16.21  ...    Morning     10  2012\n",
              "2 2012-10-02 11:00:00    None  16.43  ...    Morning     10  2012\n",
              "3 2012-10-02 12:00:00    None  16.98  ...  Afternoon     10  2012\n",
              "4 2012-10-02 13:00:00    None  17.99  ...  Afternoon     10  2012\n",
              "\n",
              "[5 rows x 14 columns]"
            ]
          },
          "metadata": {
            "tags": []
          },
          "execution_count": 35
        }
      ]
    },
    {
      "cell_type": "code",
      "metadata": {
        "colab": {
          "base_uri": "https://localhost:8080/",
          "height": 388
        },
        "id": "4uUQgDSYs392",
        "outputId": "ab2c8fdb-00d3-4e11-ccd5-6708091e550c"
      },
      "source": [
        "#Traffic volume plotted against weekday. Weekends show less traffic volume.\r\n",
        "plt.figure(figsize=(8,6))\r\n",
        "sns.boxplot(x='weekday', y='traffic_volume', data = df)\r\n",
        "plt.show()\r\n",
        "# 5 & 6 are weekends"
      ],
      "execution_count": null,
      "outputs": [
        {
          "output_type": "display_data",
          "data": {
            "image/png": "[encoded data removed]",
            "text/plain": [
              "<Figure size 576x432 with 1 Axes>"
            ]
          },
          "metadata": {
            "tags": [],
            "needs_background": "light"
          }
        }
      ]
    },
    {
      "cell_type": "code",
      "metadata": {
        "colab": {
          "base_uri": "https://localhost:8080/",
          "height": 389
        },
        "id": "VUEWtsqeHJOP",
        "outputId": "e6806c4b-59e8-4788-8e2c-c1aec4527984"
      },
      "source": [
        "plt.figure(figsize=(8,6))\r\n",
        "sns.boxplot(x='hour', y='traffic_volume', data = df)\r\n",
        "plt.show()"
      ],
      "execution_count": null,
      "outputs": [
        {
          "output_type": "display_data",
          "data": {
            "image/png": "[encoded data removed]",
            "text/plain": [
              "<Figure size 576x432 with 1 Axes>"
            ]
          },
          "metadata": {
            "tags": [],
            "needs_background": "light"
          }
        }
      ]
    },
    {
      "cell_type": "code",
      "metadata": {
        "colab": {
          "base_uri": "https://localhost:8080/"
        },
        "id": "rLUDrxyetfQ7",
        "outputId": "5fc3bd44-6839-4a01-d13b-057604ecec93"
      },
      "source": [
        "df.columns"
      ],
      "execution_count": null,
      "outputs": [
        {
          "output_type": "execute_result",
          "data": {
            "text/plain": [
              "Index(['date_time', 'holiday', 'temp', 'rain_1h', 'snow_1h', 'clouds_all',\n",
              "       'weather_main', 'weather_description', 'traffic_volume', 'weekday',\n",
              "       'date', 'hour', 'month', 'year'],\n",
              "      dtype='object')"
            ]
          },
          "metadata": {
            "tags": []
          },
          "execution_count": 38
        }
      ]
    },
    {
      "cell_type": "code",
      "metadata": {
        "colab": {
          "base_uri": "https://localhost:8080/",
          "height": 542
        },
        "id": "6TA_kE6UtchH",
        "outputId": "95b5b8f8-cd8a-4e58-e637-dfa7c3061271"
      },
      "source": [
        "gby_year =df.groupby('year').mean()\r\n",
        "gby_year_median = df.groupby('year').median()\r\n",
        "\r\n",
        "#mean and median of \r\n",
        "tr1 = go.Scatter(x=gby_year.index,y=gby_year['traffic_volume'],name='Mean')\r\n",
        "tr2 = go.Scatter(x=gby_year_median.index,y=gby_year_median['traffic_volume'],name='Median')\r\n",
        "\r\n",
        "layout = dict(title='Average traffic_volume  Over The Years',yaxis_title='Mean traffic_volume',xaxis_title='Year')\r\n",
        "fig = go.Figure(data=[tr1,tr2],layout=layout)\r\n",
        "\r\n",
        "\r\n",
        "fig.show()"
      ],
      "execution_count": null,
      "outputs": [
        {
          "output_type": "display_data",
          "data": {
            "text/html": [
              "<html>\n",
              "<head><meta charset=\"utf-8\" /></head>\n",
              "<body>\n",
              "    <div>\n",
              "            <script src=\"https://cdnjs.cloudflare.com/ajax/libs/mathjax/2.7.5/MathJax.js?config=TeX-AMS-MML_SVG\"></script><script type=\"text/javascript\">if (window.MathJax) {MathJax.Hub.Config({SVG: {font: \"STIX-Web\"}});}</script>\n",
              "                <script type=\"text/javascript\">window.PlotlyConfig = {MathJaxConfig: 'local'};</script>\n",
              "        <script src=\"https://cdn.plot.ly/plotly-latest.min.js\"></script>    \n",
              "            <div id=\"55e1ae61-c9be-415e-80e4-6481aa61963c\" class=\"plotly-graph-div\" style=\"height:525px; width:100%;\"></div>\n",
              "            <script type=\"text/javascript\">\n",
              "                \n",
              "                    window.PLOTLYENV=window.PLOTLYENV || {};\n",
              "                    \n",
              "                if (document.getElementById(\"55e1ae61-c9be-415e-80e4-6481aa61963c\")) {\n",
              "                    Plotly.newPlot(\n",
              "                        '55e1ae61-c9be-415e-80e4-6481aa61963c',\n",
              "                        [{\"name\": \"Mean\", \"type\": \"scatter\", \"x\": [2012, 2013, 2014, 2015, 2016, 2017], \"y\": [3207.802657288003, 3286.762160270617, 3250.9380037197766, 3242.9009833066543, 3169.441328175371, 3361.1746886570177]}, {\"name\": \"Median\", \"type\": \"scatter\", \"x\": [2012, 2013, 2014, 2015, 2016, 2017], \"y\": [3225.0, 3344.0, 3316.0, 3368.0, 3258.5, 3584.0]}],\n",
              "                        {\"template\": {\"data\": {\"bar\": [{\"error_x\": {\"color\": \"#2a3f5f\"}, \"error_y\": {\"color\": \"#2a3f5f\"}, \"marker\": {\"line\": {\"color\": \"#E5ECF6\", \"width\": 0.5}}, \"type\": \"bar\"}], \"barpolar\": [{\"marker\": {\"line\": {\"color\": \"#E5ECF6\", \"width\": 0.5}}, \"type\": \"barpolar\"}], \"carpet\": [{\"aaxis\": {\"endlinecolor\": \"#2a3f5f\", \"gridcolor\": \"white\", \"linecolor\": \"white\", \"minorgridcolor\": \"white\", \"startlinecolor\": \"#2a3f5f\"}, \"baxis\": {\"endlinecolor\": \"#2a3f5f\", \"gridcolor\": \"white\", \"linecolor\": \"white\", \"minorgridcolor\": \"white\", \"startlinecolor\": \"#2a3f5f\"}, \"type\": \"carpet\"}], \"choropleth\": [{\"colorbar\": {\"outlinewidth\": 0, \"ticks\": \"\"}, \"type\": \"choropleth\"}], \"contour\": [{\"colorbar\": {\"outlinewidth\": 0, \"ticks\": \"\"}, \"colorscale\": [[0.0, \"#0d0887\"], [0.1111111111111111, \"#46039f\"], [0.2222222222222222, \"#7201a8\"], [0.3333333333333333, \"#9c179e\"], [0.4444444444444444, \"#bd3786\"], [0.5555555555555556, \"#d8576b\"], [0.6666666666666666, \"#ed7953\"], [0.7777777777777778, \"#fb9f3a\"], [0.8888888888888888, \"#fdca26\"], [1.0, \"#f0f921\"]], \"type\": \"contour\"}], \"contourcarpet\": [{\"colorbar\": {\"outlinewidth\": 0, \"ticks\": \"\"}, \"type\": \"contourcarpet\"}], \"heatmap\": [{\"colorbar\": {\"outlinewidth\": 0, \"ticks\": \"\"}, \"colorscale\": [[0.0, \"#0d0887\"], [0.1111111111111111, \"#46039f\"], [0.2222222222222222, \"#7201a8\"], [0.3333333333333333, \"#9c179e\"], [0.4444444444444444, \"#bd3786\"], [0.5555555555555556, \"#d8576b\"], [0.6666666666666666, \"#ed7953\"], [0.7777777777777778, \"#fb9f3a\"], [0.8888888888888888, \"#fdca26\"], [1.0, \"#f0f921\"]], \"type\": \"heatmap\"}], \"heatmapgl\": [{\"colorbar\": {\"outlinewidth\": 0, \"ticks\": \"\"}, \"colorscale\": [[0.0, \"#0d0887\"], [0.1111111111111111, \"#46039f\"], [0.2222222222222222, \"#7201a8\"], [0.3333333333333333, \"#9c179e\"], [0.4444444444444444, \"#bd3786\"], [0.5555555555555556, \"#d8576b\"], [0.6666666666666666, \"#ed7953\"], [0.7777777777777778, \"#fb9f3a\"], [0.8888888888888888, \"#fdca26\"], [1.0, \"#f0f921\"]], \"type\": \"heatmapgl\"}], \"histogram\": [{\"marker\": {\"colorbar\": {\"outlinewidth\": 0, \"ticks\": \"\"}}, \"type\": \"histogram\"}], \"histogram2d\": [{\"colorbar\": {\"outlinewidth\": 0, \"ticks\": \"\"}, \"colorscale\": [[0.0, \"#0d0887\"], [0.1111111111111111, \"#46039f\"], [0.2222222222222222, \"#7201a8\"], [0.3333333333333333, \"#9c179e\"], [0.4444444444444444, \"#bd3786\"], [0.5555555555555556, \"#d8576b\"], [0.6666666666666666, \"#ed7953\"], [0.7777777777777778, \"#fb9f3a\"], [0.8888888888888888, \"#fdca26\"], [1.0, \"#f0f921\"]], \"type\": \"histogram2d\"}], \"histogram2dcontour\": [{\"colorbar\": {\"outlinewidth\": 0, \"ticks\": \"\"}, \"colorscale\": [[0.0, \"#0d0887\"], [0.1111111111111111, \"#46039f\"], [0.2222222222222222, \"#7201a8\"], [0.3333333333333333, \"#9c179e\"], [0.4444444444444444, \"#bd3786\"], [0.5555555555555556, \"#d8576b\"], [0.6666666666666666, \"#ed7953\"], [0.7777777777777778, \"#fb9f3a\"], [0.8888888888888888, \"#fdca26\"], [1.0, \"#f0f921\"]], \"type\": \"histogram2dcontour\"}], \"mesh3d\": [{\"colorbar\": {\"outlinewidth\": 0, \"ticks\": \"\"}, \"type\": \"mesh3d\"}], \"parcoords\": [{\"line\": {\"colorbar\": {\"outlinewidth\": 0, \"ticks\": \"\"}}, \"type\": \"parcoords\"}], \"pie\": [{\"automargin\": true, \"type\": \"pie\"}], \"scatter\": [{\"marker\": {\"colorbar\": {\"outlinewidth\": 0, \"ticks\": \"\"}}, \"type\": \"scatter\"}], \"scatter3d\": [{\"line\": {\"colorbar\": {\"outlinewidth\": 0, \"ticks\": \"\"}}, \"marker\": {\"colorbar\": {\"outlinewidth\": 0, \"ticks\": \"\"}}, \"type\": \"scatter3d\"}], \"scattercarpet\": [{\"marker\": {\"colorbar\": {\"outlinewidth\": 0, \"ticks\": \"\"}}, \"type\": \"scattercarpet\"}], \"scattergeo\": [{\"marker\": {\"colorbar\": {\"outlinewidth\": 0, \"ticks\": \"\"}}, \"type\": \"scattergeo\"}], \"scattergl\": [{\"marker\": {\"colorbar\": {\"outlinewidth\": 0, \"ticks\": \"\"}}, \"type\": \"scattergl\"}], \"scattermapbox\": [{\"marker\": {\"colorbar\": {\"outlinewidth\": 0, \"ticks\": \"\"}}, \"type\": \"scattermapbox\"}], \"scatterpolar\": [{\"marker\": {\"colorbar\": {\"outlinewidth\": 0, \"ticks\": \"\"}}, \"type\": \"scatterpolar\"}], \"scatterpolargl\": [{\"marker\": {\"colorbar\": {\"outlinewidth\": 0, \"ticks\": \"\"}}, \"type\": \"scatterpolargl\"}], \"scatterternary\": [{\"marker\": {\"colorbar\": {\"outlinewidth\": 0, \"ticks\": \"\"}}, \"type\": \"scatterternary\"}], \"surface\": [{\"colorbar\": {\"outlinewidth\": 0, \"ticks\": \"\"}, \"colorscale\": [[0.0, \"#0d0887\"], [0.1111111111111111, \"#46039f\"], [0.2222222222222222, \"#7201a8\"], [0.3333333333333333, \"#9c179e\"], [0.4444444444444444, \"#bd3786\"], [0.5555555555555556, \"#d8576b\"], [0.6666666666666666, \"#ed7953\"], [0.7777777777777778, \"#fb9f3a\"], [0.8888888888888888, \"#fdca26\"], [1.0, \"#f0f921\"]], \"type\": \"surface\"}], \"table\": [{\"cells\": {\"fill\": {\"color\": \"#EBF0F8\"}, \"line\": {\"color\": \"white\"}}, \"header\": {\"fill\": {\"color\": \"#C8D4E3\"}, \"line\": {\"color\": \"white\"}}, \"type\": \"table\"}]}, \"layout\": {\"annotationdefaults\": {\"arrowcolor\": \"#2a3f5f\", \"arrowhead\": 0, \"arrowwidth\": 1}, \"coloraxis\": {\"colorbar\": {\"outlinewidth\": 0, \"ticks\": \"\"}}, \"colorscale\": {\"diverging\": [[0, \"#8e0152\"], [0.1, \"#c51b7d\"], [0.2, \"#de77ae\"], [0.3, \"#f1b6da\"], [0.4, \"#fde0ef\"], [0.5, \"#f7f7f7\"], [0.6, \"#e6f5d0\"], [0.7, \"#b8e186\"], [0.8, \"#7fbc41\"], [0.9, \"#4d9221\"], [1, \"#276419\"]], \"sequential\": [[0.0, \"#0d0887\"], [0.1111111111111111, \"#46039f\"], [0.2222222222222222, \"#7201a8\"], [0.3333333333333333, \"#9c179e\"], [0.4444444444444444, \"#bd3786\"], [0.5555555555555556, \"#d8576b\"], [0.6666666666666666, \"#ed7953\"], [0.7777777777777778, \"#fb9f3a\"], [0.8888888888888888, \"#fdca26\"], [1.0, \"#f0f921\"]], \"sequentialminus\": [[0.0, \"#0d0887\"], [0.1111111111111111, \"#46039f\"], [0.2222222222222222, \"#7201a8\"], [0.3333333333333333, \"#9c179e\"], [0.4444444444444444, \"#bd3786\"], [0.5555555555555556, \"#d8576b\"], [0.6666666666666666, \"#ed7953\"], [0.7777777777777778, \"#fb9f3a\"], [0.8888888888888888, \"#fdca26\"], [1.0, \"#f0f921\"]]}, \"colorway\": [\"#636efa\", \"#EF553B\", \"#00cc96\", \"#ab63fa\", \"#FFA15A\", \"#19d3f3\", \"#FF6692\", \"#B6E880\", \"#FF97FF\", \"#FECB52\"], \"font\": {\"color\": \"#2a3f5f\"}, \"geo\": {\"bgcolor\": \"white\", \"lakecolor\": \"white\", \"landcolor\": \"#E5ECF6\", \"showlakes\": true, \"showland\": true, \"subunitcolor\": \"white\"}, \"hoverlabel\": {\"align\": \"left\"}, \"hovermode\": \"closest\", \"mapbox\": {\"style\": \"light\"}, \"paper_bgcolor\": \"white\", \"plot_bgcolor\": \"#E5ECF6\", \"polar\": {\"angularaxis\": {\"gridcolor\": \"white\", \"linecolor\": \"white\", \"ticks\": \"\"}, \"bgcolor\": \"#E5ECF6\", \"radialaxis\": {\"gridcolor\": \"white\", \"linecolor\": \"white\", \"ticks\": \"\"}}, \"scene\": {\"xaxis\": {\"backgroundcolor\": \"#E5ECF6\", \"gridcolor\": \"white\", \"gridwidth\": 2, \"linecolor\": \"white\", \"showbackground\": true, \"ticks\": \"\", \"zerolinecolor\": \"white\"}, \"yaxis\": {\"backgroundcolor\": \"#E5ECF6\", \"gridcolor\": \"white\", \"gridwidth\": 2, \"linecolor\": \"white\", \"showbackground\": true, \"ticks\": \"\", \"zerolinecolor\": \"white\"}, \"zaxis\": {\"backgroundcolor\": \"#E5ECF6\", \"gridcolor\": \"white\", \"gridwidth\": 2, \"linecolor\": \"white\", \"showbackground\": true, \"ticks\": \"\", \"zerolinecolor\": \"white\"}}, \"shapedefaults\": {\"line\": {\"color\": \"#2a3f5f\"}}, \"ternary\": {\"aaxis\": {\"gridcolor\": \"white\", \"linecolor\": \"white\", \"ticks\": \"\"}, \"baxis\": {\"gridcolor\": \"white\", \"linecolor\": \"white\", \"ticks\": \"\"}, \"bgcolor\": \"#E5ECF6\", \"caxis\": {\"gridcolor\": \"white\", \"linecolor\": \"white\", \"ticks\": \"\"}}, \"title\": {\"x\": 0.05}, \"xaxis\": {\"automargin\": true, \"gridcolor\": \"white\", \"linecolor\": \"white\", \"ticks\": \"\", \"title\": {\"standoff\": 15}, \"zerolinecolor\": \"white\", \"zerolinewidth\": 2}, \"yaxis\": {\"automargin\": true, \"gridcolor\": \"white\", \"linecolor\": \"white\", \"ticks\": \"\", \"title\": {\"standoff\": 15}, \"zerolinecolor\": \"white\", \"zerolinewidth\": 2}}}, \"title\": {\"text\": \"Average traffic_volume  Over The Years\"}, \"xaxis\": {\"title\": {\"text\": \"Year\"}}, \"yaxis\": {\"title\": {\"text\": \"Mean traffic_volume\"}}},\n",
              "                        {\"responsive\": true}\n",
              "                    ).then(function(){\n",
              "                            \n",
              "var gd = document.getElementById('55e1ae61-c9be-415e-80e4-6481aa61963c');\n",
              "var x = new MutationObserver(function (mutations, observer) {{\n",
              "        var display = window.getComputedStyle(gd).display;\n",
              "        if (!display || display === 'none') {{\n",
              "            console.log([gd, 'removed!']);\n",
              "            Plotly.purge(gd);\n",
              "            observer.disconnect();\n",
              "        }}\n",
              "}});\n",
              "\n",
              "// Listen for the removal of the full notebook cells\n",
              "var notebookContainer = gd.closest('#notebook-container');\n",
              "if (notebookContainer) {{\n",
              "    x.observe(notebookContainer, {childList: true});\n",
              "}}\n",
              "\n",
              "// Listen for the clearing of the current output cell\n",
              "var outputEl = gd.closest('.output');\n",
              "if (outputEl) {{\n",
              "    x.observe(outputEl, {childList: true});\n",
              "}}\n",
              "\n",
              "                        })\n",
              "                };\n",
              "                \n",
              "            </script>\n",
              "        </div>\n",
              "</body>\n",
              "</html>"
            ]
          },
          "metadata": {
            "tags": []
          }
        }
      ]
    },
    {
      "cell_type": "code",
      "metadata": {
        "id": "_bfl_s0XuZHk"
      },
      "source": [
        "#Other holidays are very sparse compared to none holidays. \r\n",
        "#Hence encoding the holidays as TRUE and none Holidays as FALSE\r\n",
        "\r\n",
        "def modify_holiday(x):\r\n",
        "    if x == 'None':\r\n",
        "        return False\r\n",
        "    else:\r\n",
        "        return True\r\n",
        "df['holiday'] = df['holiday'].map(modify_holiday)"
      ],
      "execution_count": null,
      "outputs": []
    },
    {
      "cell_type": "code",
      "metadata": {
        "id": "fe8Ss02_wE9o"
      },
      "source": [
        "#Outlier in temp which was detected earlier needs to be removed\r\n",
        "df = df.loc[df.temp>-250]"
      ],
      "execution_count": null,
      "outputs": []
    },
    {
      "cell_type": "code",
      "metadata": {
        "colab": {
          "base_uri": "https://localhost:8080/",
          "height": 388
        },
        "id": "gP4naJnS33V1",
        "outputId": "2e4e1b42-4aa6-4e26-9de8-6c2b61d14f43"
      },
      "source": [
        "#Traffic volume difference during holiday and non holiday\r\n",
        "plt.figure(figsize=(8,6))\r\n",
        "sns.barplot(x='holiday', y='traffic_volume', data = df)\r\n",
        "plt.show()"
      ],
      "execution_count": null,
      "outputs": [
        {
          "output_type": "display_data",
          "data": {
            "image/png": "[encoded data removed]",
            "text/plain": [
              "<Figure size 576x432 with 1 Axes>"
            ]
          },
          "metadata": {
            "tags": [],
            "needs_background": "light"
          }
        }
      ]
    },
    {
      "cell_type": "code",
      "metadata": {
        "colab": {
          "base_uri": "https://localhost:8080/",
          "height": 1000
        },
        "id": "NGMUQn1aG68v",
        "outputId": "8d095cf7-5f46-441f-8e2e-dea808d55871"
      },
      "source": [
        "#clouds, rain and snow distribution over different weather conditions\r\n",
        "df.groupby('weather_description').aggregate({'traffic_volume':[np.mean,np.size],\r\n",
        "                                                              'clouds_all':'count','rain_1h':'mean','snow_1h':'mean'})"
      ],
      "execution_count": null,
      "outputs": [
        {
          "output_type": "execute_result",
          "data": {
            "text/html": [
              "<div>\n",
              "<style scoped>\n",
              "    .dataframe tbody tr th:only-of-type {\n",
              "        vertical-align: middle;\n",
              "    }\n",
              "\n",
              "    .dataframe tbody tr th {\n",
              "        vertical-align: top;\n",
              "    }\n",
              "\n",
              "    .dataframe thead tr th {\n",
              "        text-align: left;\n",
              "    }\n",
              "\n",
              "    .dataframe thead tr:last-of-type th {\n",
              "        text-align: right;\n",
              "    }\n",
              "</style>\n",
              "<table border=\"1\" class=\"dataframe\">\n",
              "  <thead>\n",
              "    <tr>\n",
              "      <th></th>\n",
              "      <th colspan=\"2\" halign=\"left\">traffic_volume</th>\n",
              "      <th>clouds_all</th>\n",
              "      <th>rain_1h</th>\n",
              "      <th>snow_1h</th>\n",
              "    </tr>\n",
              "    <tr>\n",
              "      <th></th>\n",
              "      <th>mean</th>\n",
              "      <th>size</th>\n",
              "      <th>count</th>\n",
              "      <th>mean</th>\n",
              "      <th>mean</th>\n",
              "    </tr>\n",
              "    <tr>\n",
              "      <th>weather_description</th>\n",
              "      <th></th>\n",
              "      <th></th>\n",
              "      <th></th>\n",
              "      <th></th>\n",
              "      <th></th>\n",
              "    </tr>\n",
              "  </thead>\n",
              "  <tbody>\n",
              "    <tr>\n",
              "      <th>SQUALLS</th>\n",
              "      <td>2061.750000</td>\n",
              "      <td>4</td>\n",
              "      <td>4</td>\n",
              "      <td>3.482500</td>\n",
              "      <td>0.000000</td>\n",
              "    </tr>\n",
              "    <tr>\n",
              "      <th>Sky is Clear</th>\n",
              "      <td>3420.036215</td>\n",
              "      <td>1712</td>\n",
              "      <td>1712</td>\n",
              "      <td>0.000000</td>\n",
              "      <td>0.000000</td>\n",
              "    </tr>\n",
              "    <tr>\n",
              "      <th>broken clouds</th>\n",
              "      <td>3564.464037</td>\n",
              "      <td>3879</td>\n",
              "      <td>3879</td>\n",
              "      <td>0.000000</td>\n",
              "      <td>0.000000</td>\n",
              "    </tr>\n",
              "    <tr>\n",
              "      <th>drizzle</th>\n",
              "      <td>3073.518051</td>\n",
              "      <td>554</td>\n",
              "      <td>554</td>\n",
              "      <td>0.116986</td>\n",
              "      <td>0.000000</td>\n",
              "    </tr>\n",
              "    <tr>\n",
              "      <th>few clouds</th>\n",
              "      <td>3619.433255</td>\n",
              "      <td>1708</td>\n",
              "      <td>1708</td>\n",
              "      <td>0.000000</td>\n",
              "      <td>0.000000</td>\n",
              "    </tr>\n",
              "    <tr>\n",
              "      <th>fog</th>\n",
              "      <td>2833.751804</td>\n",
              "      <td>693</td>\n",
              "      <td>693</td>\n",
              "      <td>0.071558</td>\n",
              "      <td>0.000823</td>\n",
              "    </tr>\n",
              "    <tr>\n",
              "      <th>freezing rain</th>\n",
              "      <td>4314.000000</td>\n",
              "      <td>2</td>\n",
              "      <td>2</td>\n",
              "      <td>0.000000</td>\n",
              "      <td>0.000000</td>\n",
              "    </tr>\n",
              "    <tr>\n",
              "      <th>haze</th>\n",
              "      <td>3574.350453</td>\n",
              "      <td>993</td>\n",
              "      <td>993</td>\n",
              "      <td>0.037100</td>\n",
              "      <td>0.000000</td>\n",
              "    </tr>\n",
              "    <tr>\n",
              "      <th>heavy intensity drizzle</th>\n",
              "      <td>3206.375000</td>\n",
              "      <td>56</td>\n",
              "      <td>56</td>\n",
              "      <td>0.101071</td>\n",
              "      <td>0.000000</td>\n",
              "    </tr>\n",
              "    <tr>\n",
              "      <th>heavy intensity rain</th>\n",
              "      <td>3057.023256</td>\n",
              "      <td>387</td>\n",
              "      <td>387</td>\n",
              "      <td>2.936770</td>\n",
              "      <td>0.000000</td>\n",
              "    </tr>\n",
              "    <tr>\n",
              "      <th>heavy snow</th>\n",
              "      <td>3085.862010</td>\n",
              "      <td>587</td>\n",
              "      <td>587</td>\n",
              "      <td>0.001295</td>\n",
              "      <td>0.000000</td>\n",
              "    </tr>\n",
              "    <tr>\n",
              "      <th>light intensity drizzle</th>\n",
              "      <td>3338.663605</td>\n",
              "      <td>871</td>\n",
              "      <td>871</td>\n",
              "      <td>0.170034</td>\n",
              "      <td>0.000000</td>\n",
              "    </tr>\n",
              "    <tr>\n",
              "      <th>light intensity shower rain</th>\n",
              "      <td>4351.545455</td>\n",
              "      <td>11</td>\n",
              "      <td>11</td>\n",
              "      <td>0.393636</td>\n",
              "      <td>0.000000</td>\n",
              "    </tr>\n",
              "    <tr>\n",
              "      <th>light rain</th>\n",
              "      <td>3359.250089</td>\n",
              "      <td>2795</td>\n",
              "      <td>2795</td>\n",
              "      <td>0.134544</td>\n",
              "      <td>0.000082</td>\n",
              "    </tr>\n",
              "    <tr>\n",
              "      <th>light rain and snow</th>\n",
              "      <td>3961.166667</td>\n",
              "      <td>6</td>\n",
              "      <td>6</td>\n",
              "      <td>0.211667</td>\n",
              "      <td>0.000000</td>\n",
              "    </tr>\n",
              "    <tr>\n",
              "      <th>light shower snow</th>\n",
              "      <td>4570.750000</td>\n",
              "      <td>4</td>\n",
              "      <td>4</td>\n",
              "      <td>0.000000</td>\n",
              "      <td>0.000000</td>\n",
              "    </tr>\n",
              "    <tr>\n",
              "      <th>light snow</th>\n",
              "      <td>3045.698027</td>\n",
              "      <td>1318</td>\n",
              "      <td>1318</td>\n",
              "      <td>0.049196</td>\n",
              "      <td>0.002269</td>\n",
              "    </tr>\n",
              "    <tr>\n",
              "      <th>mist</th>\n",
              "      <td>2951.615268</td>\n",
              "      <td>4611</td>\n",
              "      <td>4611</td>\n",
              "      <td>0.251527</td>\n",
              "      <td>0.000939</td>\n",
              "    </tr>\n",
              "    <tr>\n",
              "      <th>moderate rain</th>\n",
              "      <td>3171.570143</td>\n",
              "      <td>1333</td>\n",
              "      <td>1333</td>\n",
              "      <td>0.541028</td>\n",
              "      <td>0.000623</td>\n",
              "    </tr>\n",
              "    <tr>\n",
              "      <th>overcast clouds</th>\n",
              "      <td>3339.694561</td>\n",
              "      <td>4302</td>\n",
              "      <td>4302</td>\n",
              "      <td>0.000000</td>\n",
              "      <td>0.000000</td>\n",
              "    </tr>\n",
              "    <tr>\n",
              "      <th>proximity shower rain</th>\n",
              "      <td>4501.202128</td>\n",
              "      <td>94</td>\n",
              "      <td>94</td>\n",
              "      <td>0.080532</td>\n",
              "      <td>0.000000</td>\n",
              "    </tr>\n",
              "    <tr>\n",
              "      <th>proximity thunderstorm</th>\n",
              "      <td>3005.149284</td>\n",
              "      <td>489</td>\n",
              "      <td>489</td>\n",
              "      <td>1.322311</td>\n",
              "      <td>0.000000</td>\n",
              "    </tr>\n",
              "    <tr>\n",
              "      <th>proximity thunderstorm with drizzle</th>\n",
              "      <td>3131.500000</td>\n",
              "      <td>12</td>\n",
              "      <td>12</td>\n",
              "      <td>0.310000</td>\n",
              "      <td>0.000000</td>\n",
              "    </tr>\n",
              "    <tr>\n",
              "      <th>proximity thunderstorm with rain</th>\n",
              "      <td>2507.026316</td>\n",
              "      <td>38</td>\n",
              "      <td>38</td>\n",
              "      <td>0.586053</td>\n",
              "      <td>0.000000</td>\n",
              "    </tr>\n",
              "    <tr>\n",
              "      <th>scattered clouds</th>\n",
              "      <td>3875.658904</td>\n",
              "      <td>2791</td>\n",
              "      <td>2791</td>\n",
              "      <td>0.000000</td>\n",
              "      <td>0.000000</td>\n",
              "    </tr>\n",
              "    <tr>\n",
              "      <th>shower drizzle</th>\n",
              "      <td>2010.000000</td>\n",
              "      <td>1</td>\n",
              "      <td>1</td>\n",
              "      <td>0.000000</td>\n",
              "      <td>0.000000</td>\n",
              "    </tr>\n",
              "    <tr>\n",
              "      <th>shower snow</th>\n",
              "      <td>5664.000000</td>\n",
              "      <td>1</td>\n",
              "      <td>1</td>\n",
              "      <td>0.000000</td>\n",
              "      <td>0.000000</td>\n",
              "    </tr>\n",
              "    <tr>\n",
              "      <th>sky is clear</th>\n",
              "      <td>3023.134193</td>\n",
              "      <td>8838</td>\n",
              "      <td>8838</td>\n",
              "      <td>0.000000</td>\n",
              "      <td>0.000000</td>\n",
              "    </tr>\n",
              "    <tr>\n",
              "      <th>sleet</th>\n",
              "      <td>3882.000000</td>\n",
              "      <td>2</td>\n",
              "      <td>2</td>\n",
              "      <td>0.000000</td>\n",
              "      <td>0.000000</td>\n",
              "    </tr>\n",
              "    <tr>\n",
              "      <th>smoke</th>\n",
              "      <td>3103.722222</td>\n",
              "      <td>18</td>\n",
              "      <td>18</td>\n",
              "      <td>0.585556</td>\n",
              "      <td>0.000000</td>\n",
              "    </tr>\n",
              "    <tr>\n",
              "      <th>snow</th>\n",
              "      <td>2808.035176</td>\n",
              "      <td>199</td>\n",
              "      <td>199</td>\n",
              "      <td>0.028492</td>\n",
              "      <td>0.008894</td>\n",
              "    </tr>\n",
              "    <tr>\n",
              "      <th>thunderstorm</th>\n",
              "      <td>2701.500000</td>\n",
              "      <td>88</td>\n",
              "      <td>88</td>\n",
              "      <td>1.130341</td>\n",
              "      <td>0.000000</td>\n",
              "    </tr>\n",
              "    <tr>\n",
              "      <th>thunderstorm with drizzle</th>\n",
              "      <td>2297.000000</td>\n",
              "      <td>2</td>\n",
              "      <td>2</td>\n",
              "      <td>5.345000</td>\n",
              "      <td>0.000000</td>\n",
              "    </tr>\n",
              "    <tr>\n",
              "      <th>thunderstorm with heavy rain</th>\n",
              "      <td>2603.857143</td>\n",
              "      <td>56</td>\n",
              "      <td>56</td>\n",
              "      <td>3.294821</td>\n",
              "      <td>0.000000</td>\n",
              "    </tr>\n",
              "    <tr>\n",
              "      <th>thunderstorm with light drizzle</th>\n",
              "      <td>2463.375000</td>\n",
              "      <td>8</td>\n",
              "      <td>8</td>\n",
              "      <td>1.002500</td>\n",
              "      <td>0.000000</td>\n",
              "    </tr>\n",
              "    <tr>\n",
              "      <th>thunderstorm with light rain</th>\n",
              "      <td>2673.926829</td>\n",
              "      <td>41</td>\n",
              "      <td>41</td>\n",
              "      <td>0.867317</td>\n",
              "      <td>0.000000</td>\n",
              "    </tr>\n",
              "    <tr>\n",
              "      <th>thunderstorm with rain</th>\n",
              "      <td>3456.322581</td>\n",
              "      <td>31</td>\n",
              "      <td>31</td>\n",
              "      <td>2.028387</td>\n",
              "      <td>0.000000</td>\n",
              "    </tr>\n",
              "    <tr>\n",
              "      <th>very heavy rain</th>\n",
              "      <td>2568.833333</td>\n",
              "      <td>18</td>\n",
              "      <td>18</td>\n",
              "      <td>570.208333</td>\n",
              "      <td>0.000000</td>\n",
              "    </tr>\n",
              "  </tbody>\n",
              "</table>\n",
              "</div>"
            ],
            "text/plain": [
              "                                    traffic_volume        ...     rain_1h   snow_1h\n",
              "                                              mean  size  ...        mean      mean\n",
              "weather_description                                       ...                      \n",
              "SQUALLS                                2061.750000     4  ...    3.482500  0.000000\n",
              "Sky is Clear                           3420.036215  1712  ...    0.000000  0.000000\n",
              "broken clouds                          3564.464037  3879  ...    0.000000  0.000000\n",
              "drizzle                                3073.518051   554  ...    0.116986  0.000000\n",
              "few clouds                             3619.433255  1708  ...    0.000000  0.000000\n",
              "fog                                    2833.751804   693  ...    0.071558  0.000823\n",
              "freezing rain                          4314.000000     2  ...    0.000000  0.000000\n",
              "haze                                   3574.350453   993  ...    0.037100  0.000000\n",
              "heavy intensity drizzle                3206.375000    56  ...    0.101071  0.000000\n",
              "heavy intensity rain                   3057.023256   387  ...    2.936770  0.000000\n",
              "heavy snow                             3085.862010   587  ...    0.001295  0.000000\n",
              "light intensity drizzle                3338.663605   871  ...    0.170034  0.000000\n",
              "light intensity shower rain            4351.545455    11  ...    0.393636  0.000000\n",
              "light rain                             3359.250089  2795  ...    0.134544  0.000082\n",
              "light rain and snow                    3961.166667     6  ...    0.211667  0.000000\n",
              "light shower snow                      4570.750000     4  ...    0.000000  0.000000\n",
              "light snow                             3045.698027  1318  ...    0.049196  0.002269\n",
              "mist                                   2951.615268  4611  ...    0.251527  0.000939\n",
              "moderate rain                          3171.570143  1333  ...    0.541028  0.000623\n",
              "overcast clouds                        3339.694561  4302  ...    0.000000  0.000000\n",
              "proximity shower rain                  4501.202128    94  ...    0.080532  0.000000\n",
              "proximity thunderstorm                 3005.149284   489  ...    1.322311  0.000000\n",
              "proximity thunderstorm with drizzle    3131.500000    12  ...    0.310000  0.000000\n",
              "proximity thunderstorm with rain       2507.026316    38  ...    0.586053  0.000000\n",
              "scattered clouds                       3875.658904  2791  ...    0.000000  0.000000\n",
              "shower drizzle                         2010.000000     1  ...    0.000000  0.000000\n",
              "shower snow                            5664.000000     1  ...    0.000000  0.000000\n",
              "sky is clear                           3023.134193  8838  ...    0.000000  0.000000\n",
              "sleet                                  3882.000000     2  ...    0.000000  0.000000\n",
              "smoke                                  3103.722222    18  ...    0.585556  0.000000\n",
              "snow                                   2808.035176   199  ...    0.028492  0.008894\n",
              "thunderstorm                           2701.500000    88  ...    1.130341  0.000000\n",
              "thunderstorm with drizzle              2297.000000     2  ...    5.345000  0.000000\n",
              "thunderstorm with heavy rain           2603.857143    56  ...    3.294821  0.000000\n",
              "thunderstorm with light drizzle        2463.375000     8  ...    1.002500  0.000000\n",
              "thunderstorm with light rain           2673.926829    41  ...    0.867317  0.000000\n",
              "thunderstorm with rain                 3456.322581    31  ...    2.028387  0.000000\n",
              "very heavy rain                        2568.833333    18  ...  570.208333  0.000000\n",
              "\n",
              "[38 rows x 5 columns]"
            ]
          },
          "metadata": {
            "tags": []
          },
          "execution_count": 43
        }
      ]
    },
    {
      "cell_type": "code",
      "metadata": {
        "id": "KLMcA3F_HorB"
      },
      "source": [
        "df['weather_description'] = df['weather_description'].map(lambda x:x.lower())"
      ],
      "execution_count": null,
      "outputs": []
    },
    {
      "cell_type": "code",
      "metadata": {
        "id": "MJguOtttH34u"
      },
      "source": [
        "#The weather description mostly describes rain, snow, thunderstorms, fog, mist and haze.\r\n",
        "\r\n",
        "#I will create following new columns:\r\n",
        "#thunderstorm - True where weather description contains Thunderstorm else False\r\n",
        "#fog - True where weather description contains fog else False\r\n",
        "#mist - True where weather description contains mist else False\r\n",
        "#haze - True where weather description contains haze else False"
      ],
      "execution_count": null,
      "outputs": []
    },
    {
      "cell_type": "code",
      "metadata": {
        "id": "LWZLk81gIAkR"
      },
      "source": [
        "#Any row containing \"thunderstorm\" is replaced by \"thunderstorm\"\r\n",
        "df.loc[df['weather_description'].str.contains('thunderstorm'),'weather_description'] = 'thunderstorm'"
      ],
      "execution_count": null,
      "outputs": []
    },
    {
      "cell_type": "code",
      "metadata": {
        "id": "lFGv9kYwIMVm"
      },
      "source": [
        "weather = ['thunderstorm','mist','fog','haze']\r\n",
        "df.loc[np.logical_not(df['weather_description'].isin(weather)),'weather_description'] = 'other'"
      ],
      "execution_count": null,
      "outputs": []
    },
    {
      "cell_type": "code",
      "metadata": {
        "colab": {
          "base_uri": "https://localhost:8080/"
        },
        "id": "V5OPZxtOIgMs",
        "outputId": "a995fc6a-bf44-489a-fbba-2853fcc355f6"
      },
      "source": [
        "df.weather_description.value_counts()"
      ],
      "execution_count": null,
      "outputs": [
        {
          "output_type": "execute_result",
          "data": {
            "text/plain": [
              "other           31491\n",
              "mist             4611\n",
              "haze              993\n",
              "thunderstorm      765\n",
              "fog               693\n",
              "Name: weather_description, dtype: int64"
            ]
          },
          "metadata": {
            "tags": []
          },
          "execution_count": 48
        }
      ]
    },
    {
      "cell_type": "code",
      "metadata": {
        "id": "Sqpo_DjyI0bh"
      },
      "source": [
        "#creating dummy variables for these newly created categories in weather description\r\n",
        "df = pd.get_dummies(columns=['weather_description'],data=df)"
      ],
      "execution_count": null,
      "outputs": []
    },
    {
      "cell_type": "code",
      "metadata": {
        "id": "4_Rk0OaII3hp"
      },
      "source": [
        "df.rename(columns={'weather_description_fog':'fog', 'weather_description_haze':'haze',\r\n",
        "                                   'weather_description_mist':'mist', 'weather_description_thunderstorm':'thunderstorm'}, inplace = True)\r\n",
        "df.drop(columns = ['weather_description_other', 'weather_main'], inplace = True)\r\n"
      ],
      "execution_count": null,
      "outputs": []
    },
    {
      "cell_type": "code",
      "metadata": {
        "colab": {
          "base_uri": "https://localhost:8080/",
          "height": 394
        },
        "id": "RL8cEBS_KPpv",
        "outputId": "791589dc-1581-40d8-bd8e-0b1051778dc7"
      },
      "source": [
        "df.head()"
      ],
      "execution_count": null,
      "outputs": [
        {
          "output_type": "execute_result",
          "data": {
            "text/html": [
              "<div>\n",
              "<style scoped>\n",
              "    .dataframe tbody tr th:only-of-type {\n",
              "        vertical-align: middle;\n",
              "    }\n",
              "\n",
              "    .dataframe tbody tr th {\n",
              "        vertical-align: top;\n",
              "    }\n",
              "\n",
              "    .dataframe thead th {\n",
              "        text-align: right;\n",
              "    }\n",
              "</style>\n",
              "<table border=\"1\" class=\"dataframe\">\n",
              "  <thead>\n",
              "    <tr style=\"text-align: right;\">\n",
              "      <th></th>\n",
              "      <th>date_time</th>\n",
              "      <th>holiday</th>\n",
              "      <th>temp</th>\n",
              "      <th>rain_1h</th>\n",
              "      <th>snow_1h</th>\n",
              "      <th>clouds_all</th>\n",
              "      <th>traffic_volume</th>\n",
              "      <th>weekday</th>\n",
              "      <th>date</th>\n",
              "      <th>hour</th>\n",
              "      <th>month</th>\n",
              "      <th>year</th>\n",
              "      <th>fog</th>\n",
              "      <th>haze</th>\n",
              "      <th>mist</th>\n",
              "      <th>thunderstorm</th>\n",
              "    </tr>\n",
              "  </thead>\n",
              "  <tbody>\n",
              "    <tr>\n",
              "      <th>0</th>\n",
              "      <td>2012-10-02 09:00:00</td>\n",
              "      <td>False</td>\n",
              "      <td>15.13</td>\n",
              "      <td>0.0</td>\n",
              "      <td>0.0</td>\n",
              "      <td>40</td>\n",
              "      <td>5545</td>\n",
              "      <td>1</td>\n",
              "      <td>2012-10-02</td>\n",
              "      <td>Morning</td>\n",
              "      <td>10</td>\n",
              "      <td>2012</td>\n",
              "      <td>0</td>\n",
              "      <td>0</td>\n",
              "      <td>0</td>\n",
              "      <td>0</td>\n",
              "    </tr>\n",
              "    <tr>\n",
              "      <th>1</th>\n",
              "      <td>2012-10-02 10:00:00</td>\n",
              "      <td>False</td>\n",
              "      <td>16.21</td>\n",
              "      <td>0.0</td>\n",
              "      <td>0.0</td>\n",
              "      <td>75</td>\n",
              "      <td>4516</td>\n",
              "      <td>1</td>\n",
              "      <td>2012-10-02</td>\n",
              "      <td>Morning</td>\n",
              "      <td>10</td>\n",
              "      <td>2012</td>\n",
              "      <td>0</td>\n",
              "      <td>0</td>\n",
              "      <td>0</td>\n",
              "      <td>0</td>\n",
              "    </tr>\n",
              "    <tr>\n",
              "      <th>2</th>\n",
              "      <td>2012-10-02 11:00:00</td>\n",
              "      <td>False</td>\n",
              "      <td>16.43</td>\n",
              "      <td>0.0</td>\n",
              "      <td>0.0</td>\n",
              "      <td>90</td>\n",
              "      <td>4767</td>\n",
              "      <td>1</td>\n",
              "      <td>2012-10-02</td>\n",
              "      <td>Morning</td>\n",
              "      <td>10</td>\n",
              "      <td>2012</td>\n",
              "      <td>0</td>\n",
              "      <td>0</td>\n",
              "      <td>0</td>\n",
              "      <td>0</td>\n",
              "    </tr>\n",
              "    <tr>\n",
              "      <th>3</th>\n",
              "      <td>2012-10-02 12:00:00</td>\n",
              "      <td>False</td>\n",
              "      <td>16.98</td>\n",
              "      <td>0.0</td>\n",
              "      <td>0.0</td>\n",
              "      <td>90</td>\n",
              "      <td>5026</td>\n",
              "      <td>1</td>\n",
              "      <td>2012-10-02</td>\n",
              "      <td>Afternoon</td>\n",
              "      <td>10</td>\n",
              "      <td>2012</td>\n",
              "      <td>0</td>\n",
              "      <td>0</td>\n",
              "      <td>0</td>\n",
              "      <td>0</td>\n",
              "    </tr>\n",
              "    <tr>\n",
              "      <th>4</th>\n",
              "      <td>2012-10-02 13:00:00</td>\n",
              "      <td>False</td>\n",
              "      <td>17.99</td>\n",
              "      <td>0.0</td>\n",
              "      <td>0.0</td>\n",
              "      <td>75</td>\n",
              "      <td>4918</td>\n",
              "      <td>1</td>\n",
              "      <td>2012-10-02</td>\n",
              "      <td>Afternoon</td>\n",
              "      <td>10</td>\n",
              "      <td>2012</td>\n",
              "      <td>0</td>\n",
              "      <td>0</td>\n",
              "      <td>0</td>\n",
              "      <td>0</td>\n",
              "    </tr>\n",
              "  </tbody>\n",
              "</table>\n",
              "</div>"
            ],
            "text/plain": [
              "            date_time  holiday   temp  rain_1h  ...  fog  haze  mist  thunderstorm\n",
              "0 2012-10-02 09:00:00    False  15.13      0.0  ...    0     0     0             0\n",
              "1 2012-10-02 10:00:00    False  16.21      0.0  ...    0     0     0             0\n",
              "2 2012-10-02 11:00:00    False  16.43      0.0  ...    0     0     0             0\n",
              "3 2012-10-02 12:00:00    False  16.98      0.0  ...    0     0     0             0\n",
              "4 2012-10-02 13:00:00    False  17.99      0.0  ...    0     0     0             0\n",
              "\n",
              "[5 rows x 16 columns]"
            ]
          },
          "metadata": {
            "tags": []
          },
          "execution_count": 51
        }
      ]
    },
    {
      "cell_type": "markdown",
      "metadata": {
        "id": "onV-ncURLu7v"
      },
      "source": [
        " **outlier removal**"
      ]
    },
    {
      "cell_type": "code",
      "metadata": {
        "id": "qLOuwKMyLDOF"
      },
      "source": [
        "#Outlier in temp which was detected earlier needs to be removed\r\n",
        "df= df.loc[df.temp>-250]"
      ],
      "execution_count": null,
      "outputs": []
    },
    {
      "cell_type": "code",
      "metadata": {
        "colab": {
          "base_uri": "https://localhost:8080/",
          "height": 476
        },
        "id": "R29Eh-aBL7bx",
        "outputId": "41aa1670-f3e6-4b42-f172-b1fb51fe9095"
      },
      "source": [
        "#distribution after removing the outlier\r\n",
        "plt.figure(figsize=(8,6))\r\n",
        "sns.boxplot('temp',data = df)\r\n",
        "plt.show()"
      ],
      "execution_count": null,
      "outputs": [
        {
          "output_type": "stream",
          "text": [
            "/usr/local/lib/python3.6/dist-packages/seaborn/_decorators.py:43: FutureWarning:\n",
            "\n",
            "Pass the following variable as a keyword arg: x. From version 0.12, the only valid positional argument will be `data`, and passing other arguments without an explicit keyword will result in an error or misinterpretation.\n",
            "\n"
          ],
          "name": "stderr"
        },
        {
          "output_type": "display_data",
          "data": {
            "image/png": "[encoded data removed]",
            "text/plain": [
              "<Figure size 576x432 with 1 Axes>"
            ]
          },
          "metadata": {
            "tags": [],
            "needs_background": "light"
          }
        }
      ]
    },
    {
      "cell_type": "code",
      "metadata": {
        "colab": {
          "base_uri": "https://localhost:8080/",
          "height": 477
        },
        "id": "2xsABn45KXjV",
        "outputId": "66b9dcb0-df43-483a-b9a8-b9c5e6c71323"
      },
      "source": [
        "#Plotiing rain data shows one outlier data point. Lets remove it.\r\n",
        "plt.figure(figsize=(8,6))\r\n",
        "sns.boxplot('rain_1h',data = df)\r\n",
        "plt.show()"
      ],
      "execution_count": null,
      "outputs": [
        {
          "output_type": "stream",
          "text": [
            "/usr/local/lib/python3.6/dist-packages/seaborn/_decorators.py:43: FutureWarning:\n",
            "\n",
            "Pass the following variable as a keyword arg: x. From version 0.12, the only valid positional argument will be `data`, and passing other arguments without an explicit keyword will result in an error or misinterpretation.\n",
            "\n"
          ],
          "name": "stderr"
        },
        {
          "output_type": "display_data",
          "data": {
            "image/png": "[encoded data removed]",
            "text/plain": [
              "<Figure size 576x432 with 1 Axes>"
            ]
          },
          "metadata": {
            "tags": [],
            "needs_background": "light"
          }
        }
      ]
    },
    {
      "cell_type": "code",
      "metadata": {
        "colab": {
          "base_uri": "https://localhost:8080/",
          "height": 385
        },
        "id": "wgcVL0W7MR3K",
        "outputId": "1b249be2-0e5d-454b-d6f4-7ebc7ad36537"
      },
      "source": [
        "sns.boxplot('rain_1h',data = df.loc[df.rain_1h<2000])"
      ],
      "execution_count": null,
      "outputs": [
        {
          "output_type": "stream",
          "text": [
            "/usr/local/lib/python3.6/dist-packages/seaborn/_decorators.py:43: FutureWarning:\n",
            "\n",
            "Pass the following variable as a keyword arg: x. From version 0.12, the only valid positional argument will be `data`, and passing other arguments without an explicit keyword will result in an error or misinterpretation.\n",
            "\n"
          ],
          "name": "stderr"
        },
        {
          "output_type": "execute_result",
          "data": {
            "text/plain": [
              "<matplotlib.axes._subplots.AxesSubplot at 0x7f8dfabd0ba8>"
            ]
          },
          "metadata": {
            "tags": []
          },
          "execution_count": 55
        },
        {
          "output_type": "display_data",
          "data": {
            "image/png": "[encoded data removed]",
            "text/plain": [
              "<Figure size 432x288 with 1 Axes>"
            ]
          },
          "metadata": {
            "tags": [],
            "needs_background": "light"
          }
        }
      ]
    },
    {
      "cell_type": "code",
      "metadata": {
        "colab": {
          "base_uri": "https://localhost:8080/"
        },
        "id": "ZmrMMDT4N3jV",
        "outputId": "d5b1f636-bfb1-4669-81d0-2dbf5b13a03a"
      },
      "source": [
        "df.columns"
      ],
      "execution_count": null,
      "outputs": [
        {
          "output_type": "execute_result",
          "data": {
            "text/plain": [
              "Index(['date_time', 'holiday', 'temp', 'rain_1h', 'snow_1h', 'clouds_all',\n",
              "       'traffic_volume', 'weekday', 'date', 'hour', 'month', 'year', 'fog',\n",
              "       'haze', 'mist', 'thunderstorm'],\n",
              "      dtype='object')"
            ]
          },
          "metadata": {
            "tags": []
          },
          "execution_count": 56
        }
      ]
    },
    {
      "cell_type": "code",
      "metadata": {
        "colab": {
          "base_uri": "https://localhost:8080/",
          "height": 394
        },
        "id": "LyU3uoR6MVum",
        "outputId": "9db142eb-7419-41c4-8091-2b2d056369ec"
      },
      "source": [
        "#Removing outlier in rain column and converting numeric data to categories\r\n",
        "#rain value equal to 0.0 as no_rain\r\n",
        "#rain value greater than 0.0 is cut into 3 quantiles\r\n",
        "\r\n",
        "df = df.loc[df.rain_1h<2000]\r\n",
        "df_1 = df.loc[df.rain_1h>0]\r\n",
        "#we are dividing them into 3 groups\r\n",
        "rain_q = pd.DataFrame(pd.qcut(df_1['rain_1h'] ,q=3, labels=['light','moderate','heavy']))\r\n",
        "df_traffic_cat = df.merge(rain_q,left_index=True, right_index=True, how='left')\r\n",
        "df_traffic_cat['rain_1h_y'] = df_traffic_cat.rain_1h_y.cat.add_categories('no_rain')\r\n",
        "df_traffic_cat['rain_1h_y'].fillna('no_rain', inplace = True) #no_rain is not in the category, adding it and filling\r\n",
        "\r\n",
        "df_traffic_cat.drop(columns=['rain_1h_x'], inplace = True)\r\n",
        "df_traffic_cat.rename(columns={'rain_1h_y':'rain_1h'}, inplace = True)\r\n",
        "df_traffic_cat.head()"
      ],
      "execution_count": null,
      "outputs": [
        {
          "output_type": "execute_result",
          "data": {
            "text/html": [
              "<div>\n",
              "<style scoped>\n",
              "    .dataframe tbody tr th:only-of-type {\n",
              "        vertical-align: middle;\n",
              "    }\n",
              "\n",
              "    .dataframe tbody tr th {\n",
              "        vertical-align: top;\n",
              "    }\n",
              "\n",
              "    .dataframe thead th {\n",
              "        text-align: right;\n",
              "    }\n",
              "</style>\n",
              "<table border=\"1\" class=\"dataframe\">\n",
              "  <thead>\n",
              "    <tr style=\"text-align: right;\">\n",
              "      <th></th>\n",
              "      <th>date_time</th>\n",
              "      <th>holiday</th>\n",
              "      <th>temp</th>\n",
              "      <th>snow_1h</th>\n",
              "      <th>clouds_all</th>\n",
              "      <th>traffic_volume</th>\n",
              "      <th>weekday</th>\n",
              "      <th>date</th>\n",
              "      <th>hour</th>\n",
              "      <th>month</th>\n",
              "      <th>year</th>\n",
              "      <th>fog</th>\n",
              "      <th>haze</th>\n",
              "      <th>mist</th>\n",
              "      <th>thunderstorm</th>\n",
              "      <th>rain_1h</th>\n",
              "    </tr>\n",
              "  </thead>\n",
              "  <tbody>\n",
              "    <tr>\n",
              "      <th>0</th>\n",
              "      <td>2012-10-02 09:00:00</td>\n",
              "      <td>False</td>\n",
              "      <td>15.13</td>\n",
              "      <td>0.0</td>\n",
              "      <td>40</td>\n",
              "      <td>5545</td>\n",
              "      <td>1</td>\n",
              "      <td>2012-10-02</td>\n",
              "      <td>Morning</td>\n",
              "      <td>10</td>\n",
              "      <td>2012</td>\n",
              "      <td>0</td>\n",
              "      <td>0</td>\n",
              "      <td>0</td>\n",
              "      <td>0</td>\n",
              "      <td>no_rain</td>\n",
              "    </tr>\n",
              "    <tr>\n",
              "      <th>1</th>\n",
              "      <td>2012-10-02 10:00:00</td>\n",
              "      <td>False</td>\n",
              "      <td>16.21</td>\n",
              "      <td>0.0</td>\n",
              "      <td>75</td>\n",
              "      <td>4516</td>\n",
              "      <td>1</td>\n",
              "      <td>2012-10-02</td>\n",
              "      <td>Morning</td>\n",
              "      <td>10</td>\n",
              "      <td>2012</td>\n",
              "      <td>0</td>\n",
              "      <td>0</td>\n",
              "      <td>0</td>\n",
              "      <td>0</td>\n",
              "      <td>no_rain</td>\n",
              "    </tr>\n",
              "    <tr>\n",
              "      <th>2</th>\n",
              "      <td>2012-10-02 11:00:00</td>\n",
              "      <td>False</td>\n",
              "      <td>16.43</td>\n",
              "      <td>0.0</td>\n",
              "      <td>90</td>\n",
              "      <td>4767</td>\n",
              "      <td>1</td>\n",
              "      <td>2012-10-02</td>\n",
              "      <td>Morning</td>\n",
              "      <td>10</td>\n",
              "      <td>2012</td>\n",
              "      <td>0</td>\n",
              "      <td>0</td>\n",
              "      <td>0</td>\n",
              "      <td>0</td>\n",
              "      <td>no_rain</td>\n",
              "    </tr>\n",
              "    <tr>\n",
              "      <th>3</th>\n",
              "      <td>2012-10-02 12:00:00</td>\n",
              "      <td>False</td>\n",
              "      <td>16.98</td>\n",
              "      <td>0.0</td>\n",
              "      <td>90</td>\n",
              "      <td>5026</td>\n",
              "      <td>1</td>\n",
              "      <td>2012-10-02</td>\n",
              "      <td>Afternoon</td>\n",
              "      <td>10</td>\n",
              "      <td>2012</td>\n",
              "      <td>0</td>\n",
              "      <td>0</td>\n",
              "      <td>0</td>\n",
              "      <td>0</td>\n",
              "      <td>no_rain</td>\n",
              "    </tr>\n",
              "    <tr>\n",
              "      <th>4</th>\n",
              "      <td>2012-10-02 13:00:00</td>\n",
              "      <td>False</td>\n",
              "      <td>17.99</td>\n",
              "      <td>0.0</td>\n",
              "      <td>75</td>\n",
              "      <td>4918</td>\n",
              "      <td>1</td>\n",
              "      <td>2012-10-02</td>\n",
              "      <td>Afternoon</td>\n",
              "      <td>10</td>\n",
              "      <td>2012</td>\n",
              "      <td>0</td>\n",
              "      <td>0</td>\n",
              "      <td>0</td>\n",
              "      <td>0</td>\n",
              "      <td>no_rain</td>\n",
              "    </tr>\n",
              "  </tbody>\n",
              "</table>\n",
              "</div>"
            ],
            "text/plain": [
              "            date_time  holiday   temp  ...  mist  thunderstorm  rain_1h\n",
              "0 2012-10-02 09:00:00    False  15.13  ...     0             0  no_rain\n",
              "1 2012-10-02 10:00:00    False  16.21  ...     0             0  no_rain\n",
              "2 2012-10-02 11:00:00    False  16.43  ...     0             0  no_rain\n",
              "3 2012-10-02 12:00:00    False  16.98  ...     0             0  no_rain\n",
              "4 2012-10-02 13:00:00    False  17.99  ...     0             0  no_rain\n",
              "\n",
              "[5 rows x 16 columns]"
            ]
          },
          "metadata": {
            "tags": []
          },
          "execution_count": 57
        }
      ]
    },
    {
      "cell_type": "code",
      "metadata": {
        "colab": {
          "base_uri": "https://localhost:8080/",
          "height": 385
        },
        "id": "JNAu3E6YQBcW",
        "outputId": "0c85fc61-edb0-46eb-b44d-fd3044cd4def"
      },
      "source": [
        "#Plotiing snow data shows that it is extremely skewed as observed during univariate analysis\r\n",
        "sns.boxplot('snow_1h',data = df)"
      ],
      "execution_count": null,
      "outputs": [
        {
          "output_type": "stream",
          "text": [
            "/usr/local/lib/python3.6/dist-packages/seaborn/_decorators.py:43: FutureWarning:\n",
            "\n",
            "Pass the following variable as a keyword arg: x. From version 0.12, the only valid positional argument will be `data`, and passing other arguments without an explicit keyword will result in an error or misinterpretation.\n",
            "\n"
          ],
          "name": "stderr"
        },
        {
          "output_type": "execute_result",
          "data": {
            "text/plain": [
              "<matplotlib.axes._subplots.AxesSubplot at 0x7f8dfab95ba8>"
            ]
          },
          "metadata": {
            "tags": []
          },
          "execution_count": 58
        },
        {
          "output_type": "display_data",
          "data": {
            "image/png": "[encoded data removed]",
            "text/plain": [
              "<Figure size 432x288 with 1 Axes>"
            ]
          },
          "metadata": {
            "tags": [],
            "needs_background": "light"
          }
        }
      ]
    },
    {
      "cell_type": "code",
      "metadata": {
        "colab": {
          "base_uri": "https://localhost:8080/"
        },
        "id": "3vUPER6VQOZW",
        "outputId": "3430840a-0363-488a-a580-09f533707dcf"
      },
      "source": [
        "#only 63 observations have snow greater than 0.0, it can be encoded as no_snow and \r\n",
        "df.snow_1h[df.snow_1h>0].count()\r\n",
        "#63 columns -> change to snow, no_snow"
      ],
      "execution_count": null,
      "outputs": [
        {
          "output_type": "execute_result",
          "data": {
            "text/plain": [
              "63"
            ]
          },
          "metadata": {
            "tags": []
          },
          "execution_count": 59
        }
      ]
    },
    {
      "cell_type": "code",
      "metadata": {
        "id": "UOG7pdcARlhr"
      },
      "source": [
        "df_date_traffic = df.groupby('year').aggregate({'traffic_volume':'mean'})"
      ],
      "execution_count": null,
      "outputs": []
    },
    {
      "cell_type": "code",
      "metadata": {
        "id": "whIB_0XzQXt_"
      },
      "source": [
        "def modify_snow1h(x):\r\n",
        "    if x==0:\r\n",
        "        return 'no_snow'\r\n",
        "    else:\r\n",
        "        return 'snow'\r\n",
        "    \r\n",
        "df_traffic_cat['snow_1h'] = df_traffic_cat.snow_1h.map(modify_snow1h)"
      ],
      "execution_count": null,
      "outputs": []
    },
    {
      "cell_type": "code",
      "metadata": {
        "colab": {
          "base_uri": "https://localhost:8080/",
          "height": 394
        },
        "id": "zjkOfcqhQm8V",
        "outputId": "e8274441-0a07-464b-e6bd-7a5c478bbd20"
      },
      "source": [
        "df.head()"
      ],
      "execution_count": null,
      "outputs": [
        {
          "output_type": "execute_result",
          "data": {
            "text/html": [
              "<div>\n",
              "<style scoped>\n",
              "    .dataframe tbody tr th:only-of-type {\n",
              "        vertical-align: middle;\n",
              "    }\n",
              "\n",
              "    .dataframe tbody tr th {\n",
              "        vertical-align: top;\n",
              "    }\n",
              "\n",
              "    .dataframe thead th {\n",
              "        text-align: right;\n",
              "    }\n",
              "</style>\n",
              "<table border=\"1\" class=\"dataframe\">\n",
              "  <thead>\n",
              "    <tr style=\"text-align: right;\">\n",
              "      <th></th>\n",
              "      <th>date_time</th>\n",
              "      <th>holiday</th>\n",
              "      <th>temp</th>\n",
              "      <th>rain_1h</th>\n",
              "      <th>snow_1h</th>\n",
              "      <th>clouds_all</th>\n",
              "      <th>traffic_volume</th>\n",
              "      <th>weekday</th>\n",
              "      <th>date</th>\n",
              "      <th>hour</th>\n",
              "      <th>month</th>\n",
              "      <th>year</th>\n",
              "      <th>fog</th>\n",
              "      <th>haze</th>\n",
              "      <th>mist</th>\n",
              "      <th>thunderstorm</th>\n",
              "    </tr>\n",
              "  </thead>\n",
              "  <tbody>\n",
              "    <tr>\n",
              "      <th>0</th>\n",
              "      <td>2012-10-02 09:00:00</td>\n",
              "      <td>False</td>\n",
              "      <td>15.13</td>\n",
              "      <td>0.0</td>\n",
              "      <td>0.0</td>\n",
              "      <td>40</td>\n",
              "      <td>5545</td>\n",
              "      <td>1</td>\n",
              "      <td>2012-10-02</td>\n",
              "      <td>Morning</td>\n",
              "      <td>10</td>\n",
              "      <td>2012</td>\n",
              "      <td>0</td>\n",
              "      <td>0</td>\n",
              "      <td>0</td>\n",
              "      <td>0</td>\n",
              "    </tr>\n",
              "    <tr>\n",
              "      <th>1</th>\n",
              "      <td>2012-10-02 10:00:00</td>\n",
              "      <td>False</td>\n",
              "      <td>16.21</td>\n",
              "      <td>0.0</td>\n",
              "      <td>0.0</td>\n",
              "      <td>75</td>\n",
              "      <td>4516</td>\n",
              "      <td>1</td>\n",
              "      <td>2012-10-02</td>\n",
              "      <td>Morning</td>\n",
              "      <td>10</td>\n",
              "      <td>2012</td>\n",
              "      <td>0</td>\n",
              "      <td>0</td>\n",
              "      <td>0</td>\n",
              "      <td>0</td>\n",
              "    </tr>\n",
              "    <tr>\n",
              "      <th>2</th>\n",
              "      <td>2012-10-02 11:00:00</td>\n",
              "      <td>False</td>\n",
              "      <td>16.43</td>\n",
              "      <td>0.0</td>\n",
              "      <td>0.0</td>\n",
              "      <td>90</td>\n",
              "      <td>4767</td>\n",
              "      <td>1</td>\n",
              "      <td>2012-10-02</td>\n",
              "      <td>Morning</td>\n",
              "      <td>10</td>\n",
              "      <td>2012</td>\n",
              "      <td>0</td>\n",
              "      <td>0</td>\n",
              "      <td>0</td>\n",
              "      <td>0</td>\n",
              "    </tr>\n",
              "    <tr>\n",
              "      <th>3</th>\n",
              "      <td>2012-10-02 12:00:00</td>\n",
              "      <td>False</td>\n",
              "      <td>16.98</td>\n",
              "      <td>0.0</td>\n",
              "      <td>0.0</td>\n",
              "      <td>90</td>\n",
              "      <td>5026</td>\n",
              "      <td>1</td>\n",
              "      <td>2012-10-02</td>\n",
              "      <td>Afternoon</td>\n",
              "      <td>10</td>\n",
              "      <td>2012</td>\n",
              "      <td>0</td>\n",
              "      <td>0</td>\n",
              "      <td>0</td>\n",
              "      <td>0</td>\n",
              "    </tr>\n",
              "    <tr>\n",
              "      <th>4</th>\n",
              "      <td>2012-10-02 13:00:00</td>\n",
              "      <td>False</td>\n",
              "      <td>17.99</td>\n",
              "      <td>0.0</td>\n",
              "      <td>0.0</td>\n",
              "      <td>75</td>\n",
              "      <td>4918</td>\n",
              "      <td>1</td>\n",
              "      <td>2012-10-02</td>\n",
              "      <td>Afternoon</td>\n",
              "      <td>10</td>\n",
              "      <td>2012</td>\n",
              "      <td>0</td>\n",
              "      <td>0</td>\n",
              "      <td>0</td>\n",
              "      <td>0</td>\n",
              "    </tr>\n",
              "  </tbody>\n",
              "</table>\n",
              "</div>"
            ],
            "text/plain": [
              "            date_time  holiday   temp  rain_1h  ...  fog  haze  mist  thunderstorm\n",
              "0 2012-10-02 09:00:00    False  15.13      0.0  ...    0     0     0             0\n",
              "1 2012-10-02 10:00:00    False  16.21      0.0  ...    0     0     0             0\n",
              "2 2012-10-02 11:00:00    False  16.43      0.0  ...    0     0     0             0\n",
              "3 2012-10-02 12:00:00    False  16.98      0.0  ...    0     0     0             0\n",
              "4 2012-10-02 13:00:00    False  17.99      0.0  ...    0     0     0             0\n",
              "\n",
              "[5 rows x 16 columns]"
            ]
          },
          "metadata": {
            "tags": []
          },
          "execution_count": 62
        }
      ]
    },
    {
      "cell_type": "code",
      "metadata": {
        "colab": {
          "base_uri": "https://localhost:8080/",
          "height": 394
        },
        "id": "gJWT5mUqMuia",
        "outputId": "0e9463c6-dadb-4700-ffdd-b1d1b95b6df5"
      },
      "source": [
        "df_traffic_cat.head()"
      ],
      "execution_count": null,
      "outputs": [
        {
          "output_type": "execute_result",
          "data": {
            "text/html": [
              "<div>\n",
              "<style scoped>\n",
              "    .dataframe tbody tr th:only-of-type {\n",
              "        vertical-align: middle;\n",
              "    }\n",
              "\n",
              "    .dataframe tbody tr th {\n",
              "        vertical-align: top;\n",
              "    }\n",
              "\n",
              "    .dataframe thead th {\n",
              "        text-align: right;\n",
              "    }\n",
              "</style>\n",
              "<table border=\"1\" class=\"dataframe\">\n",
              "  <thead>\n",
              "    <tr style=\"text-align: right;\">\n",
              "      <th></th>\n",
              "      <th>date_time</th>\n",
              "      <th>holiday</th>\n",
              "      <th>temp</th>\n",
              "      <th>snow_1h</th>\n",
              "      <th>clouds_all</th>\n",
              "      <th>traffic_volume</th>\n",
              "      <th>weekday</th>\n",
              "      <th>date</th>\n",
              "      <th>hour</th>\n",
              "      <th>month</th>\n",
              "      <th>year</th>\n",
              "      <th>fog</th>\n",
              "      <th>haze</th>\n",
              "      <th>mist</th>\n",
              "      <th>thunderstorm</th>\n",
              "      <th>rain_1h</th>\n",
              "    </tr>\n",
              "  </thead>\n",
              "  <tbody>\n",
              "    <tr>\n",
              "      <th>0</th>\n",
              "      <td>2012-10-02 09:00:00</td>\n",
              "      <td>False</td>\n",
              "      <td>15.13</td>\n",
              "      <td>no_snow</td>\n",
              "      <td>40</td>\n",
              "      <td>5545</td>\n",
              "      <td>1</td>\n",
              "      <td>2012-10-02</td>\n",
              "      <td>Morning</td>\n",
              "      <td>10</td>\n",
              "      <td>2012</td>\n",
              "      <td>0</td>\n",
              "      <td>0</td>\n",
              "      <td>0</td>\n",
              "      <td>0</td>\n",
              "      <td>no_rain</td>\n",
              "    </tr>\n",
              "    <tr>\n",
              "      <th>1</th>\n",
              "      <td>2012-10-02 10:00:00</td>\n",
              "      <td>False</td>\n",
              "      <td>16.21</td>\n",
              "      <td>no_snow</td>\n",
              "      <td>75</td>\n",
              "      <td>4516</td>\n",
              "      <td>1</td>\n",
              "      <td>2012-10-02</td>\n",
              "      <td>Morning</td>\n",
              "      <td>10</td>\n",
              "      <td>2012</td>\n",
              "      <td>0</td>\n",
              "      <td>0</td>\n",
              "      <td>0</td>\n",
              "      <td>0</td>\n",
              "      <td>no_rain</td>\n",
              "    </tr>\n",
              "    <tr>\n",
              "      <th>2</th>\n",
              "      <td>2012-10-02 11:00:00</td>\n",
              "      <td>False</td>\n",
              "      <td>16.43</td>\n",
              "      <td>no_snow</td>\n",
              "      <td>90</td>\n",
              "      <td>4767</td>\n",
              "      <td>1</td>\n",
              "      <td>2012-10-02</td>\n",
              "      <td>Morning</td>\n",
              "      <td>10</td>\n",
              "      <td>2012</td>\n",
              "      <td>0</td>\n",
              "      <td>0</td>\n",
              "      <td>0</td>\n",
              "      <td>0</td>\n",
              "      <td>no_rain</td>\n",
              "    </tr>\n",
              "    <tr>\n",
              "      <th>3</th>\n",
              "      <td>2012-10-02 12:00:00</td>\n",
              "      <td>False</td>\n",
              "      <td>16.98</td>\n",
              "      <td>no_snow</td>\n",
              "      <td>90</td>\n",
              "      <td>5026</td>\n",
              "      <td>1</td>\n",
              "      <td>2012-10-02</td>\n",
              "      <td>Afternoon</td>\n",
              "      <td>10</td>\n",
              "      <td>2012</td>\n",
              "      <td>0</td>\n",
              "      <td>0</td>\n",
              "      <td>0</td>\n",
              "      <td>0</td>\n",
              "      <td>no_rain</td>\n",
              "    </tr>\n",
              "    <tr>\n",
              "      <th>4</th>\n",
              "      <td>2012-10-02 13:00:00</td>\n",
              "      <td>False</td>\n",
              "      <td>17.99</td>\n",
              "      <td>no_snow</td>\n",
              "      <td>75</td>\n",
              "      <td>4918</td>\n",
              "      <td>1</td>\n",
              "      <td>2012-10-02</td>\n",
              "      <td>Afternoon</td>\n",
              "      <td>10</td>\n",
              "      <td>2012</td>\n",
              "      <td>0</td>\n",
              "      <td>0</td>\n",
              "      <td>0</td>\n",
              "      <td>0</td>\n",
              "      <td>no_rain</td>\n",
              "    </tr>\n",
              "  </tbody>\n",
              "</table>\n",
              "</div>"
            ],
            "text/plain": [
              "            date_time  holiday   temp  ... mist  thunderstorm  rain_1h\n",
              "0 2012-10-02 09:00:00    False  15.13  ...    0             0  no_rain\n",
              "1 2012-10-02 10:00:00    False  16.21  ...    0             0  no_rain\n",
              "2 2012-10-02 11:00:00    False  16.43  ...    0             0  no_rain\n",
              "3 2012-10-02 12:00:00    False  16.98  ...    0             0  no_rain\n",
              "4 2012-10-02 13:00:00    False  17.99  ...    0             0  no_rain\n",
              "\n",
              "[5 rows x 16 columns]"
            ]
          },
          "metadata": {
            "tags": []
          },
          "execution_count": 63
        }
      ]
    },
    {
      "cell_type": "code",
      "metadata": {
        "colab": {
          "base_uri": "https://localhost:8080/"
        },
        "id": "nCVI_39nNzOg",
        "outputId": "dd9f851a-12b7-4ccf-f467-b678891b1c78"
      },
      "source": [
        "df_traffic_cat.rain_1h.unique()"
      ],
      "execution_count": null,
      "outputs": [
        {
          "output_type": "execute_result",
          "data": {
            "text/plain": [
              "['no_rain', 'light', 'moderate', 'heavy']\n",
              "Categories (4, object): ['light' < 'moderate' < 'heavy' < 'no_rain']"
            ]
          },
          "metadata": {
            "tags": []
          },
          "execution_count": 64
        }
      ]
    },
    {
      "cell_type": "code",
      "metadata": {
        "colab": {
          "base_uri": "https://localhost:8080/"
        },
        "id": "nIlrH6DnOB8y",
        "outputId": "8fcedd97-6cb5-47ec-db3f-982b4bd4ecae"
      },
      "source": [
        "df_traffic_cat.snow_1h.unique()"
      ],
      "execution_count": null,
      "outputs": [
        {
          "output_type": "execute_result",
          "data": {
            "text/plain": [
              "array(['no_snow', 'snow'], dtype=object)"
            ]
          },
          "metadata": {
            "tags": []
          },
          "execution_count": 65
        }
      ]
    },
    {
      "cell_type": "code",
      "metadata": {
        "id": "T9CvBFaSOM4i"
      },
      "source": [
        "df_traffic_cat['rain_1h']= df_traffic_cat['rain_1h'].map({\"no_rain\":0,'light':1,\"moderate\":2,\"heavy\":3})"
      ],
      "execution_count": null,
      "outputs": []
    },
    {
      "cell_type": "code",
      "metadata": {
        "id": "WZYVVPJ0P-dU"
      },
      "source": [
        "df_traffic_cat.rain_1h=pd.to_numeric(df_traffic_cat.rain_1h)"
      ],
      "execution_count": null,
      "outputs": []
    },
    {
      "cell_type": "code",
      "metadata": {
        "colab": {
          "base_uri": "https://localhost:8080/"
        },
        "id": "YSuD-1J9Q2Gi",
        "outputId": "41dc8f3b-a413-4142-a5eb-da8b9903d0eb"
      },
      "source": [
        "df_traffic_cat.info()"
      ],
      "execution_count": null,
      "outputs": [
        {
          "output_type": "stream",
          "text": [
            "<class 'pandas.core.frame.DataFrame'>\n",
            "Int64Index: 38552 entries, 0 to 38562\n",
            "Data columns (total 16 columns):\n",
            " #   Column          Non-Null Count  Dtype         \n",
            "---  ------          --------------  -----         \n",
            " 0   date_time       38552 non-null  datetime64[ns]\n",
            " 1   holiday         38552 non-null  bool          \n",
            " 2   temp            38552 non-null  float64       \n",
            " 3   snow_1h         38552 non-null  object        \n",
            " 4   clouds_all      38552 non-null  int64         \n",
            " 5   traffic_volume  38552 non-null  int64         \n",
            " 6   weekday         38552 non-null  int64         \n",
            " 7   date            38552 non-null  object        \n",
            " 8   hour            38552 non-null  object        \n",
            " 9   month           38552 non-null  int64         \n",
            " 10  year            38552 non-null  int64         \n",
            " 11  fog             38552 non-null  uint8         \n",
            " 12  haze            38552 non-null  uint8         \n",
            " 13  mist            38552 non-null  uint8         \n",
            " 14  thunderstorm    38552 non-null  uint8         \n",
            " 15  rain_1h         38552 non-null  int64         \n",
            "dtypes: bool(1), datetime64[ns](1), float64(1), int64(6), object(3), uint8(4)\n",
            "memory usage: 5.0+ MB\n"
          ],
          "name": "stdout"
        }
      ]
    },
    {
      "cell_type": "code",
      "metadata": {
        "colab": {
          "base_uri": "https://localhost:8080/"
        },
        "id": "Bqsw5x3jRFL5",
        "outputId": "7b31d806-01c1-4766-ba97-4d209797f57a"
      },
      "source": [
        "df_traffic_cat.hour.unique()"
      ],
      "execution_count": null,
      "outputs": [
        {
          "output_type": "execute_result",
          "data": {
            "text/plain": [
              "array(['Morning', 'Afternoon', 'Evening', 'Night', 'Late_Night',\n",
              "       'Early_Morning'], dtype=object)"
            ]
          },
          "metadata": {
            "tags": []
          },
          "execution_count": 69
        }
      ]
    },
    {
      "cell_type": "code",
      "metadata": {
        "id": "8wptWICmRL0r"
      },
      "source": [
        "df_traffic_cat.hour=df_traffic_cat['hour'].map({\"Late_Night\":0,'Night':1,\"Early_Morning\":2,\"Evening\":3,'Morning':4,'Afternoon':5})"
      ],
      "execution_count": null,
      "outputs": []
    },
    {
      "cell_type": "code",
      "metadata": {
        "colab": {
          "base_uri": "https://localhost:8080/"
        },
        "id": "zGqsfAIFSsb9",
        "outputId": "062addfa-bafa-4e42-a16f-96808af124e6"
      },
      "source": [
        "df_traffic_cat.hour.unique()"
      ],
      "execution_count": null,
      "outputs": [
        {
          "output_type": "execute_result",
          "data": {
            "text/plain": [
              "array([4, 5, 3, 1, 0, 2])"
            ]
          },
          "metadata": {
            "tags": []
          },
          "execution_count": 71
        }
      ]
    },
    {
      "cell_type": "code",
      "metadata": {
        "id": "KUKpeXCqTi3y"
      },
      "source": [
        "df_traffic_cat.snow_1h=df_traffic_cat['snow_1h'].map({\"no_snow\":0,'snow':1})"
      ],
      "execution_count": null,
      "outputs": []
    },
    {
      "cell_type": "code",
      "metadata": {
        "id": "44g2sQB8T-4u"
      },
      "source": [
        " #df_traffic_cat.holiday=df_traffic_cat['holiday'].map({\"False\":0,'True':1})"
      ],
      "execution_count": null,
      "outputs": []
    },
    {
      "cell_type": "code",
      "metadata": {
        "colab": {
          "base_uri": "https://localhost:8080/"
        },
        "id": "eXWmjafQYikQ",
        "outputId": "7c59c50a-385e-4039-e914-3768488954cd"
      },
      "source": [
        "df_traffic_cat.holiday.unique()"
      ],
      "execution_count": null,
      "outputs": [
        {
          "output_type": "execute_result",
          "data": {
            "text/plain": [
              "array([False,  True])"
            ]
          },
          "metadata": {
            "tags": []
          },
          "execution_count": 74
        }
      ]
    },
    {
      "cell_type": "code",
      "metadata": {
        "id": "OiZxcikGYoGw"
      },
      "source": [
        "df_traffic_cat.holiday=df_traffic_cat.holiday.map({False:0,True:1})"
      ],
      "execution_count": null,
      "outputs": []
    },
    {
      "cell_type": "code",
      "metadata": {
        "colab": {
          "base_uri": "https://localhost:8080/",
          "height": 394
        },
        "id": "tGdr5q7IQ7gw",
        "outputId": "ba63aee8-a18c-4644-9934-65d1569366ca"
      },
      "source": [
        "df_traffic_cat.head()"
      ],
      "execution_count": null,
      "outputs": [
        {
          "output_type": "execute_result",
          "data": {
            "text/html": [
              "<div>\n",
              "<style scoped>\n",
              "    .dataframe tbody tr th:only-of-type {\n",
              "        vertical-align: middle;\n",
              "    }\n",
              "\n",
              "    .dataframe tbody tr th {\n",
              "        vertical-align: top;\n",
              "    }\n",
              "\n",
              "    .dataframe thead th {\n",
              "        text-align: right;\n",
              "    }\n",
              "</style>\n",
              "<table border=\"1\" class=\"dataframe\">\n",
              "  <thead>\n",
              "    <tr style=\"text-align: right;\">\n",
              "      <th></th>\n",
              "      <th>date_time</th>\n",
              "      <th>holiday</th>\n",
              "      <th>temp</th>\n",
              "      <th>snow_1h</th>\n",
              "      <th>clouds_all</th>\n",
              "      <th>traffic_volume</th>\n",
              "      <th>weekday</th>\n",
              "      <th>date</th>\n",
              "      <th>hour</th>\n",
              "      <th>month</th>\n",
              "      <th>year</th>\n",
              "      <th>fog</th>\n",
              "      <th>haze</th>\n",
              "      <th>mist</th>\n",
              "      <th>thunderstorm</th>\n",
              "      <th>rain_1h</th>\n",
              "    </tr>\n",
              "  </thead>\n",
              "  <tbody>\n",
              "    <tr>\n",
              "      <th>0</th>\n",
              "      <td>2012-10-02 09:00:00</td>\n",
              "      <td>0</td>\n",
              "      <td>15.13</td>\n",
              "      <td>0</td>\n",
              "      <td>40</td>\n",
              "      <td>5545</td>\n",
              "      <td>1</td>\n",
              "      <td>2012-10-02</td>\n",
              "      <td>4</td>\n",
              "      <td>10</td>\n",
              "      <td>2012</td>\n",
              "      <td>0</td>\n",
              "      <td>0</td>\n",
              "      <td>0</td>\n",
              "      <td>0</td>\n",
              "      <td>0</td>\n",
              "    </tr>\n",
              "    <tr>\n",
              "      <th>1</th>\n",
              "      <td>2012-10-02 10:00:00</td>\n",
              "      <td>0</td>\n",
              "      <td>16.21</td>\n",
              "      <td>0</td>\n",
              "      <td>75</td>\n",
              "      <td>4516</td>\n",
              "      <td>1</td>\n",
              "      <td>2012-10-02</td>\n",
              "      <td>4</td>\n",
              "      <td>10</td>\n",
              "      <td>2012</td>\n",
              "      <td>0</td>\n",
              "      <td>0</td>\n",
              "      <td>0</td>\n",
              "      <td>0</td>\n",
              "      <td>0</td>\n",
              "    </tr>\n",
              "    <tr>\n",
              "      <th>2</th>\n",
              "      <td>2012-10-02 11:00:00</td>\n",
              "      <td>0</td>\n",
              "      <td>16.43</td>\n",
              "      <td>0</td>\n",
              "      <td>90</td>\n",
              "      <td>4767</td>\n",
              "      <td>1</td>\n",
              "      <td>2012-10-02</td>\n",
              "      <td>4</td>\n",
              "      <td>10</td>\n",
              "      <td>2012</td>\n",
              "      <td>0</td>\n",
              "      <td>0</td>\n",
              "      <td>0</td>\n",
              "      <td>0</td>\n",
              "      <td>0</td>\n",
              "    </tr>\n",
              "    <tr>\n",
              "      <th>3</th>\n",
              "      <td>2012-10-02 12:00:00</td>\n",
              "      <td>0</td>\n",
              "      <td>16.98</td>\n",
              "      <td>0</td>\n",
              "      <td>90</td>\n",
              "      <td>5026</td>\n",
              "      <td>1</td>\n",
              "      <td>2012-10-02</td>\n",
              "      <td>5</td>\n",
              "      <td>10</td>\n",
              "      <td>2012</td>\n",
              "      <td>0</td>\n",
              "      <td>0</td>\n",
              "      <td>0</td>\n",
              "      <td>0</td>\n",
              "      <td>0</td>\n",
              "    </tr>\n",
              "    <tr>\n",
              "      <th>4</th>\n",
              "      <td>2012-10-02 13:00:00</td>\n",
              "      <td>0</td>\n",
              "      <td>17.99</td>\n",
              "      <td>0</td>\n",
              "      <td>75</td>\n",
              "      <td>4918</td>\n",
              "      <td>1</td>\n",
              "      <td>2012-10-02</td>\n",
              "      <td>5</td>\n",
              "      <td>10</td>\n",
              "      <td>2012</td>\n",
              "      <td>0</td>\n",
              "      <td>0</td>\n",
              "      <td>0</td>\n",
              "      <td>0</td>\n",
              "      <td>0</td>\n",
              "    </tr>\n",
              "  </tbody>\n",
              "</table>\n",
              "</div>"
            ],
            "text/plain": [
              "            date_time  holiday   temp  ...  mist  thunderstorm  rain_1h\n",
              "0 2012-10-02 09:00:00        0  15.13  ...     0             0        0\n",
              "1 2012-10-02 10:00:00        0  16.21  ...     0             0        0\n",
              "2 2012-10-02 11:00:00        0  16.43  ...     0             0        0\n",
              "3 2012-10-02 12:00:00        0  16.98  ...     0             0        0\n",
              "4 2012-10-02 13:00:00        0  17.99  ...     0             0        0\n",
              "\n",
              "[5 rows x 16 columns]"
            ]
          },
          "metadata": {
            "tags": []
          },
          "execution_count": 76
        }
      ]
    },
    {
      "cell_type": "code",
      "metadata": {
        "id": "Ev6t_AT2R5uH"
      },
      "source": [
        "#setting date as index\r\n",
        "#df_traffic_cat.set_index('date', inplace = True)"
      ],
      "execution_count": null,
      "outputs": []
    },
    {
      "cell_type": "code",
      "metadata": {
        "colab": {
          "base_uri": "https://localhost:8080/"
        },
        "id": "E44Oojc9R7P5",
        "outputId": "e457d21e-f922-4dfe-f886-928a0a67d5af"
      },
      "source": [
        "df_traffic_cat.info()"
      ],
      "execution_count": null,
      "outputs": [
        {
          "output_type": "stream",
          "text": [
            "<class 'pandas.core.frame.DataFrame'>\n",
            "Int64Index: 38552 entries, 0 to 38562\n",
            "Data columns (total 16 columns):\n",
            " #   Column          Non-Null Count  Dtype         \n",
            "---  ------          --------------  -----         \n",
            " 0   date_time       38552 non-null  datetime64[ns]\n",
            " 1   holiday         38552 non-null  int64         \n",
            " 2   temp            38552 non-null  float64       \n",
            " 3   snow_1h         38552 non-null  int64         \n",
            " 4   clouds_all      38552 non-null  int64         \n",
            " 5   traffic_volume  38552 non-null  int64         \n",
            " 6   weekday         38552 non-null  int64         \n",
            " 7   date            38552 non-null  object        \n",
            " 8   hour            38552 non-null  int64         \n",
            " 9   month           38552 non-null  int64         \n",
            " 10  year            38552 non-null  int64         \n",
            " 11  fog             38552 non-null  uint8         \n",
            " 12  haze            38552 non-null  uint8         \n",
            " 13  mist            38552 non-null  uint8         \n",
            " 14  thunderstorm    38552 non-null  uint8         \n",
            " 15  rain_1h         38552 non-null  int64         \n",
            "dtypes: datetime64[ns](1), float64(1), int64(9), object(1), uint8(4)\n",
            "memory usage: 5.2+ MB\n"
          ],
          "name": "stdout"
        }
      ]
    },
    {
      "cell_type": "code",
      "metadata": {
        "id": "0APqSgqENY9k"
      },
      "source": [
        "X=df_traffic_cat.drop(['date_time','traffic_volume','date'],axis=1)\r\n",
        "y=df_traffic_cat.traffic_volume"
      ],
      "execution_count": null,
      "outputs": []
    },
    {
      "cell_type": "code",
      "metadata": {
        "id": "Sl_o7X10Wz0J"
      },
      "source": [
        "from sklearn.preprocessing import StandardScaler\r\n",
        "sc = StandardScaler()\r\n",
        "X1= sc.fit_transform(X)\r\n",
        "#X_test = sc.transform(X_test_true)"
      ],
      "execution_count": null,
      "outputs": []
    },
    {
      "cell_type": "code",
      "metadata": {
        "colab": {
          "base_uri": "https://localhost:8080/"
        },
        "id": "_aPEMPUQXTP2",
        "outputId": "cf132770-0453-4fa7-c94a-de0be9641c8a"
      },
      "source": [
        "from sklearn.ensemble import ExtraTreesRegressor\r\n",
        "selection = ExtraTreesRegressor()\r\n",
        "selection.fit(X1, y)"
      ],
      "execution_count": null,
      "outputs": [
        {
          "output_type": "execute_result",
          "data": {
            "text/plain": [
              "ExtraTreesRegressor(bootstrap=False, ccp_alpha=0.0, criterion='mse',\n",
              "                    max_depth=None, max_features='auto', max_leaf_nodes=None,\n",
              "                    max_samples=None, min_impurity_decrease=0.0,\n",
              "                    min_impurity_split=None, min_samples_leaf=1,\n",
              "                    min_samples_split=2, min_weight_fraction_leaf=0.0,\n",
              "                    n_estimators=100, n_jobs=None, oob_score=False,\n",
              "                    random_state=None, verbose=0, warm_start=False)"
            ]
          },
          "metadata": {
            "tags": []
          },
          "execution_count": 81
        }
      ]
    },
    {
      "cell_type": "code",
      "metadata": {
        "colab": {
          "base_uri": "https://localhost:8080/",
          "height": 483
        },
        "id": "jGkkykopXYq2",
        "outputId": "615bd444-99ea-422e-ff38-0e001c346e74"
      },
      "source": [
        "plt.figure(figsize = (12,8))\r\n",
        "feat_importances = pd.Series(selection.feature_importances_, index=X.columns)\r\n",
        "feat_importances.nlargest(20).plot(kind='barh')\r\n",
        "plt.show()"
      ],
      "execution_count": null,
      "outputs": [
        {
          "output_type": "display_data",
          "data": {
            "image/png": "[encoded data removed]",
            "text/plain": [
              "<Figure size 864x576 with 1 Axes>"
            ]
          },
          "metadata": {
            "tags": [],
            "needs_background": "light"
          }
        }
      ]
    },
    {
      "cell_type": "markdown",
      "metadata": {
        "id": "nBBiFApugfVW"
      },
      "source": [
        "# Testdata"
      ]
    },
    {
      "cell_type": "code",
      "metadata": {
        "id": "X7R9ffIo2hDd"
      },
      "source": [
        "test=pd.read_csv(url1)"
      ],
      "execution_count": null,
      "outputs": []
    },
    {
      "cell_type": "code",
      "metadata": {
        "id": "inMp4GUXidNV",
        "colab": {
          "base_uri": "https://localhost:8080/"
        },
        "outputId": "e6bef826-4344-476a-a7e3-4bb4755fbb37"
      },
      "source": [
        "test.info()"
      ],
      "execution_count": null,
      "outputs": [
        {
          "output_type": "stream",
          "text": [
            "<class 'pandas.core.frame.DataFrame'>\n",
            "RangeIndex: 9641 entries, 0 to 9640\n",
            "Data columns (total 8 columns):\n",
            " #   Column               Non-Null Count  Dtype  \n",
            "---  ------               --------------  -----  \n",
            " 0   date_time            9641 non-null   object \n",
            " 1   holiday              9641 non-null   object \n",
            " 2   temp                 9641 non-null   float64\n",
            " 3   rain_1h              9641 non-null   float64\n",
            " 4   snow_1h              9641 non-null   float64\n",
            " 5   clouds_all           9641 non-null   int64  \n",
            " 6   weather_main         9641 non-null   object \n",
            " 7   weather_description  9641 non-null   object \n",
            "dtypes: float64(3), int64(1), object(4)\n",
            "memory usage: 602.7+ KB\n"
          ],
          "name": "stdout"
        }
      ]
    },
    {
      "cell_type": "code",
      "metadata": {
        "id": "K6XeOcXlgh4U"
      },
      "source": [
        "test['date_time'] = pd.to_datetime(test.date_time)\r\n",
        "test['weekday'] = test.date_time.dt.weekday\r\n",
        "test['date'] = test.date_time.dt.date\r\n",
        "test['hour'] = test.date_time.dt.hour\r\n",
        "test['month'] = test.date_time.dt.month\r\n",
        "test['year'] = test.date_time.dt.year"
      ],
      "execution_count": null,
      "outputs": []
    },
    {
      "cell_type": "code",
      "metadata": {
        "colab": {
          "base_uri": "https://localhost:8080/",
          "height": 394
        },
        "id": "pgL5gwgKy-mZ",
        "outputId": "839b5ab1-09c4-4069-c0f6-3aec8e7a6c5b"
      },
      "source": [
        "test.head()"
      ],
      "execution_count": null,
      "outputs": [
        {
          "output_type": "execute_result",
          "data": {
            "text/html": [
              "<div>\n",
              "<style scoped>\n",
              "    .dataframe tbody tr th:only-of-type {\n",
              "        vertical-align: middle;\n",
              "    }\n",
              "\n",
              "    .dataframe tbody tr th {\n",
              "        vertical-align: top;\n",
              "    }\n",
              "\n",
              "    .dataframe thead th {\n",
              "        text-align: right;\n",
              "    }\n",
              "</style>\n",
              "<table border=\"1\" class=\"dataframe\">\n",
              "  <thead>\n",
              "    <tr style=\"text-align: right;\">\n",
              "      <th></th>\n",
              "      <th>date_time</th>\n",
              "      <th>holiday</th>\n",
              "      <th>temp</th>\n",
              "      <th>rain_1h</th>\n",
              "      <th>snow_1h</th>\n",
              "      <th>clouds_all</th>\n",
              "      <th>weather_main</th>\n",
              "      <th>weather_description</th>\n",
              "      <th>weekday</th>\n",
              "      <th>date</th>\n",
              "      <th>hour</th>\n",
              "      <th>month</th>\n",
              "      <th>year</th>\n",
              "    </tr>\n",
              "  </thead>\n",
              "  <tbody>\n",
              "    <tr>\n",
              "      <th>0</th>\n",
              "      <td>2017-11-01 20:00:00</td>\n",
              "      <td>None</td>\n",
              "      <td>274.75</td>\n",
              "      <td>0.0</td>\n",
              "      <td>0.0</td>\n",
              "      <td>90</td>\n",
              "      <td>Mist</td>\n",
              "      <td>mist</td>\n",
              "      <td>2</td>\n",
              "      <td>2017-11-01</td>\n",
              "      <td>20</td>\n",
              "      <td>11</td>\n",
              "      <td>2017</td>\n",
              "    </tr>\n",
              "    <tr>\n",
              "      <th>1</th>\n",
              "      <td>2017-11-01 20:00:00</td>\n",
              "      <td>None</td>\n",
              "      <td>274.75</td>\n",
              "      <td>0.0</td>\n",
              "      <td>0.0</td>\n",
              "      <td>90</td>\n",
              "      <td>Rain</td>\n",
              "      <td>light rain</td>\n",
              "      <td>2</td>\n",
              "      <td>2017-11-01</td>\n",
              "      <td>20</td>\n",
              "      <td>11</td>\n",
              "      <td>2017</td>\n",
              "    </tr>\n",
              "    <tr>\n",
              "      <th>2</th>\n",
              "      <td>2017-11-01 21:00:00</td>\n",
              "      <td>None</td>\n",
              "      <td>274.79</td>\n",
              "      <td>0.0</td>\n",
              "      <td>0.0</td>\n",
              "      <td>90</td>\n",
              "      <td>Mist</td>\n",
              "      <td>mist</td>\n",
              "      <td>2</td>\n",
              "      <td>2017-11-01</td>\n",
              "      <td>21</td>\n",
              "      <td>11</td>\n",
              "      <td>2017</td>\n",
              "    </tr>\n",
              "    <tr>\n",
              "      <th>3</th>\n",
              "      <td>2017-11-01 21:00:00</td>\n",
              "      <td>None</td>\n",
              "      <td>274.79</td>\n",
              "      <td>0.0</td>\n",
              "      <td>0.0</td>\n",
              "      <td>90</td>\n",
              "      <td>Drizzle</td>\n",
              "      <td>drizzle</td>\n",
              "      <td>2</td>\n",
              "      <td>2017-11-01</td>\n",
              "      <td>21</td>\n",
              "      <td>11</td>\n",
              "      <td>2017</td>\n",
              "    </tr>\n",
              "    <tr>\n",
              "      <th>4</th>\n",
              "      <td>2017-11-01 22:00:00</td>\n",
              "      <td>None</td>\n",
              "      <td>275.08</td>\n",
              "      <td>0.0</td>\n",
              "      <td>0.0</td>\n",
              "      <td>90</td>\n",
              "      <td>Mist</td>\n",
              "      <td>mist</td>\n",
              "      <td>2</td>\n",
              "      <td>2017-11-01</td>\n",
              "      <td>22</td>\n",
              "      <td>11</td>\n",
              "      <td>2017</td>\n",
              "    </tr>\n",
              "  </tbody>\n",
              "</table>\n",
              "</div>"
            ],
            "text/plain": [
              "            date_time holiday    temp  rain_1h  ...        date  hour month  year\n",
              "0 2017-11-01 20:00:00    None  274.75      0.0  ...  2017-11-01    20    11  2017\n",
              "1 2017-11-01 20:00:00    None  274.75      0.0  ...  2017-11-01    20    11  2017\n",
              "2 2017-11-01 21:00:00    None  274.79      0.0  ...  2017-11-01    21    11  2017\n",
              "3 2017-11-01 21:00:00    None  274.79      0.0  ...  2017-11-01    21    11  2017\n",
              "4 2017-11-01 22:00:00    None  275.08      0.0  ...  2017-11-01    22    11  2017\n",
              "\n",
              "[5 rows x 13 columns]"
            ]
          },
          "metadata": {
            "tags": []
          },
          "execution_count": 86
        }
      ]
    },
    {
      "cell_type": "code",
      "metadata": {
        "id": "z7WUZs2JzSUK"
      },
      "source": [
        "test['hour'] = test.hour.map(hour_modify)\r\n",
        "\r\n",
        "test['holiday'] = test['holiday'].map(modify_holiday)"
      ],
      "execution_count": null,
      "outputs": []
    },
    {
      "cell_type": "code",
      "metadata": {
        "id": "dgTNVr3CzjIi"
      },
      "source": [
        "test['weather_description'] = test['weather_description'].map(lambda x:x.lower())\r\n",
        "\r\n"
      ],
      "execution_count": null,
      "outputs": []
    },
    {
      "cell_type": "code",
      "metadata": {
        "colab": {
          "base_uri": "https://localhost:8080/"
        },
        "id": "YGIv0JXj4ey8",
        "outputId": "08de90cf-70d0-463c-b76d-a25c0cb778f5"
      },
      "source": [
        "test['rain_1h']"
      ],
      "execution_count": null,
      "outputs": [
        {
          "output_type": "execute_result",
          "data": {
            "text/plain": [
              "0       0.0\n",
              "1       0.0\n",
              "2       0.0\n",
              "3       0.0\n",
              "4       0.0\n",
              "       ... \n",
              "9636    0.0\n",
              "9637    0.0\n",
              "9638    0.0\n",
              "9639    0.0\n",
              "9640    0.0\n",
              "Name: rain_1h, Length: 9641, dtype: float64"
            ]
          },
          "metadata": {
            "tags": []
          },
          "execution_count": 89
        }
      ]
    },
    {
      "cell_type": "code",
      "metadata": {
        "colab": {
          "base_uri": "https://localhost:8080/",
          "height": 394
        },
        "id": "ZxJ2krDL0eRc",
        "outputId": "1641a026-d7ae-4165-9367-4734eed57731"
      },
      "source": [
        "df25= test.loc[test.rain_1h>0.25]\r\n",
        "\r\n",
        "rain_q = pd.DataFrame(pd.qcut(df25['rain_1h'] ,q=3, labels=['light','moderate','heavy']))\r\n",
        "test_c = test.merge(rain_q,left_index=True, right_index=True, how='left')\r\n",
        "test_c['rain_1h_y'] = test_c.rain_1h_y.cat.add_categories('no_rain')\r\n",
        "test_c['rain_1h_y'].fillna('no_rain', inplace = True) #no_rain is not in the category, adding it and filling\r\n",
        "\r\n",
        "test_c.drop(columns=['rain_1h_x'], inplace = True)\r\n",
        "test_c.rename(columns={'rain_1h_y':'rain_1h'}, inplace = True)\r\n",
        "test_c.head()"
      ],
      "execution_count": null,
      "outputs": [
        {
          "output_type": "execute_result",
          "data": {
            "text/html": [
              "<div>\n",
              "<style scoped>\n",
              "    .dataframe tbody tr th:only-of-type {\n",
              "        vertical-align: middle;\n",
              "    }\n",
              "\n",
              "    .dataframe tbody tr th {\n",
              "        vertical-align: top;\n",
              "    }\n",
              "\n",
              "    .dataframe thead th {\n",
              "        text-align: right;\n",
              "    }\n",
              "</style>\n",
              "<table border=\"1\" class=\"dataframe\">\n",
              "  <thead>\n",
              "    <tr style=\"text-align: right;\">\n",
              "      <th></th>\n",
              "      <th>date_time</th>\n",
              "      <th>holiday</th>\n",
              "      <th>temp</th>\n",
              "      <th>snow_1h</th>\n",
              "      <th>clouds_all</th>\n",
              "      <th>weather_main</th>\n",
              "      <th>weather_description</th>\n",
              "      <th>weekday</th>\n",
              "      <th>date</th>\n",
              "      <th>hour</th>\n",
              "      <th>month</th>\n",
              "      <th>year</th>\n",
              "      <th>rain_1h</th>\n",
              "    </tr>\n",
              "  </thead>\n",
              "  <tbody>\n",
              "    <tr>\n",
              "      <th>0</th>\n",
              "      <td>2017-11-01 20:00:00</td>\n",
              "      <td>False</td>\n",
              "      <td>274.75</td>\n",
              "      <td>0.0</td>\n",
              "      <td>90</td>\n",
              "      <td>Mist</td>\n",
              "      <td>mist</td>\n",
              "      <td>2</td>\n",
              "      <td>2017-11-01</td>\n",
              "      <td>Night</td>\n",
              "      <td>11</td>\n",
              "      <td>2017</td>\n",
              "      <td>no_rain</td>\n",
              "    </tr>\n",
              "    <tr>\n",
              "      <th>1</th>\n",
              "      <td>2017-11-01 20:00:00</td>\n",
              "      <td>False</td>\n",
              "      <td>274.75</td>\n",
              "      <td>0.0</td>\n",
              "      <td>90</td>\n",
              "      <td>Rain</td>\n",
              "      <td>light rain</td>\n",
              "      <td>2</td>\n",
              "      <td>2017-11-01</td>\n",
              "      <td>Night</td>\n",
              "      <td>11</td>\n",
              "      <td>2017</td>\n",
              "      <td>no_rain</td>\n",
              "    </tr>\n",
              "    <tr>\n",
              "      <th>2</th>\n",
              "      <td>2017-11-01 21:00:00</td>\n",
              "      <td>False</td>\n",
              "      <td>274.79</td>\n",
              "      <td>0.0</td>\n",
              "      <td>90</td>\n",
              "      <td>Mist</td>\n",
              "      <td>mist</td>\n",
              "      <td>2</td>\n",
              "      <td>2017-11-01</td>\n",
              "      <td>Night</td>\n",
              "      <td>11</td>\n",
              "      <td>2017</td>\n",
              "      <td>no_rain</td>\n",
              "    </tr>\n",
              "    <tr>\n",
              "      <th>3</th>\n",
              "      <td>2017-11-01 21:00:00</td>\n",
              "      <td>False</td>\n",
              "      <td>274.79</td>\n",
              "      <td>0.0</td>\n",
              "      <td>90</td>\n",
              "      <td>Drizzle</td>\n",
              "      <td>drizzle</td>\n",
              "      <td>2</td>\n",
              "      <td>2017-11-01</td>\n",
              "      <td>Night</td>\n",
              "      <td>11</td>\n",
              "      <td>2017</td>\n",
              "      <td>no_rain</td>\n",
              "    </tr>\n",
              "    <tr>\n",
              "      <th>4</th>\n",
              "      <td>2017-11-01 22:00:00</td>\n",
              "      <td>False</td>\n",
              "      <td>275.08</td>\n",
              "      <td>0.0</td>\n",
              "      <td>90</td>\n",
              "      <td>Mist</td>\n",
              "      <td>mist</td>\n",
              "      <td>2</td>\n",
              "      <td>2017-11-01</td>\n",
              "      <td>Night</td>\n",
              "      <td>11</td>\n",
              "      <td>2017</td>\n",
              "      <td>no_rain</td>\n",
              "    </tr>\n",
              "  </tbody>\n",
              "</table>\n",
              "</div>"
            ],
            "text/plain": [
              "            date_time  holiday    temp  snow_1h  ...   hour month  year  rain_1h\n",
              "0 2017-11-01 20:00:00    False  274.75      0.0  ...  Night    11  2017  no_rain\n",
              "1 2017-11-01 20:00:00    False  274.75      0.0  ...  Night    11  2017  no_rain\n",
              "2 2017-11-01 21:00:00    False  274.79      0.0  ...  Night    11  2017  no_rain\n",
              "3 2017-11-01 21:00:00    False  274.79      0.0  ...  Night    11  2017  no_rain\n",
              "4 2017-11-01 22:00:00    False  275.08      0.0  ...  Night    11  2017  no_rain\n",
              "\n",
              "[5 rows x 13 columns]"
            ]
          },
          "metadata": {
            "tags": []
          },
          "execution_count": 90
        }
      ]
    },
    {
      "cell_type": "code",
      "metadata": {
        "colab": {
          "base_uri": "https://localhost:8080/"
        },
        "id": "yfBOCke-824k",
        "outputId": "263718c6-c2e5-4b41-afac-e14b70cfa8d8"
      },
      "source": [
        "test_c.rain_1h.unique()"
      ],
      "execution_count": null,
      "outputs": [
        {
          "output_type": "execute_result",
          "data": {
            "text/plain": [
              "['no_rain', 'light', 'moderate', 'heavy']\n",
              "Categories (4, object): ['light' < 'moderate' < 'heavy' < 'no_rain']"
            ]
          },
          "metadata": {
            "tags": []
          },
          "execution_count": 91
        }
      ]
    },
    {
      "cell_type": "code",
      "metadata": {
        "id": "ZhLsOcwx7Vbh"
      },
      "source": [
        "test_c['snow_1h'] = test_c.snow_1h.map(modify_snow1h)"
      ],
      "execution_count": null,
      "outputs": []
    },
    {
      "cell_type": "code",
      "metadata": {
        "id": "3rQkN3C87oDY"
      },
      "source": [
        "test_c['rain_1h']= test_c['rain_1h'].map({\"no_rain\":0,'light':1,\"moderate\":2,\"heavy\":3})\r\n",
        "\r\n",
        "test_c.rain_1h=pd.to_numeric(test_c.rain_1h)\r\n",
        "\r\n",
        "test_c.snow_1h=test_c['snow_1h'].map({\"no_snow\":0,'snow':1})\r\n",
        "\r\n",
        "test_c.holiday=test_c.holiday.map({False:0,True:1})\r\n",
        "\r\n"
      ],
      "execution_count": null,
      "outputs": []
    },
    {
      "cell_type": "code",
      "metadata": {
        "id": "bNQ2TbuI9stw"
      },
      "source": [
        "test_c.hour=test_c['hour'].map({\"Late_Night\":0,'Night':1,\"Early_Morning\":2,\"Evening\":3,'Morning':4,'Afternoon':5})"
      ],
      "execution_count": null,
      "outputs": []
    },
    {
      "cell_type": "code",
      "metadata": {
        "id": "RDlDl1Bw9TRS"
      },
      "source": [
        "#Any row containing \"thunderstorm\" is replaced by \"thunderstorm\"\r\n",
        "test_c.loc[test_c['weather_description'].str.contains('thunderstorm'),'weather_description'] = 'thunderstorm'\r\n",
        "\r\n",
        "weather = ['thunderstorm','mist','fog','haze']\r\n",
        "test_c.loc[np.logical_not(test_c['weather_description'].isin(weather)),'weather_description'] = 'other'\r\n",
        "\r\n",
        "test_c= pd.get_dummies(columns=['weather_description'],data=test_c)\r\n",
        "\r\n",
        "test_c.rename(columns={'weather_description_fog':'fog', 'weather_description_haze':'haze',\r\n",
        "                                   'weather_description_mist':'mist', 'weather_description_thunderstorm':'thunderstorm'}, inplace = True)\r\n",
        "test_c.drop(columns = ['weather_description_other', 'weather_main'], inplace = True)\r\n"
      ],
      "execution_count": null,
      "outputs": []
    },
    {
      "cell_type": "code",
      "metadata": {
        "colab": {
          "base_uri": "https://localhost:8080/",
          "height": 394
        },
        "id": "KVReznGN7bLL",
        "outputId": "08ee5b09-eca6-49c2-c922-0a1c89646544"
      },
      "source": [
        "test_c.head()"
      ],
      "execution_count": null,
      "outputs": [
        {
          "output_type": "execute_result",
          "data": {
            "text/html": [
              "<div>\n",
              "<style scoped>\n",
              "    .dataframe tbody tr th:only-of-type {\n",
              "        vertical-align: middle;\n",
              "    }\n",
              "\n",
              "    .dataframe tbody tr th {\n",
              "        vertical-align: top;\n",
              "    }\n",
              "\n",
              "    .dataframe thead th {\n",
              "        text-align: right;\n",
              "    }\n",
              "</style>\n",
              "<table border=\"1\" class=\"dataframe\">\n",
              "  <thead>\n",
              "    <tr style=\"text-align: right;\">\n",
              "      <th></th>\n",
              "      <th>date_time</th>\n",
              "      <th>holiday</th>\n",
              "      <th>temp</th>\n",
              "      <th>snow_1h</th>\n",
              "      <th>clouds_all</th>\n",
              "      <th>weekday</th>\n",
              "      <th>date</th>\n",
              "      <th>hour</th>\n",
              "      <th>month</th>\n",
              "      <th>year</th>\n",
              "      <th>rain_1h</th>\n",
              "      <th>fog</th>\n",
              "      <th>haze</th>\n",
              "      <th>mist</th>\n",
              "      <th>thunderstorm</th>\n",
              "    </tr>\n",
              "  </thead>\n",
              "  <tbody>\n",
              "    <tr>\n",
              "      <th>0</th>\n",
              "      <td>2017-11-01 20:00:00</td>\n",
              "      <td>0</td>\n",
              "      <td>274.75</td>\n",
              "      <td>0</td>\n",
              "      <td>90</td>\n",
              "      <td>2</td>\n",
              "      <td>2017-11-01</td>\n",
              "      <td>1</td>\n",
              "      <td>11</td>\n",
              "      <td>2017</td>\n",
              "      <td>0</td>\n",
              "      <td>0</td>\n",
              "      <td>0</td>\n",
              "      <td>1</td>\n",
              "      <td>0</td>\n",
              "    </tr>\n",
              "    <tr>\n",
              "      <th>1</th>\n",
              "      <td>2017-11-01 20:00:00</td>\n",
              "      <td>0</td>\n",
              "      <td>274.75</td>\n",
              "      <td>0</td>\n",
              "      <td>90</td>\n",
              "      <td>2</td>\n",
              "      <td>2017-11-01</td>\n",
              "      <td>1</td>\n",
              "      <td>11</td>\n",
              "      <td>2017</td>\n",
              "      <td>0</td>\n",
              "      <td>0</td>\n",
              "      <td>0</td>\n",
              "      <td>0</td>\n",
              "      <td>0</td>\n",
              "    </tr>\n",
              "    <tr>\n",
              "      <th>2</th>\n",
              "      <td>2017-11-01 21:00:00</td>\n",
              "      <td>0</td>\n",
              "      <td>274.79</td>\n",
              "      <td>0</td>\n",
              "      <td>90</td>\n",
              "      <td>2</td>\n",
              "      <td>2017-11-01</td>\n",
              "      <td>1</td>\n",
              "      <td>11</td>\n",
              "      <td>2017</td>\n",
              "      <td>0</td>\n",
              "      <td>0</td>\n",
              "      <td>0</td>\n",
              "      <td>1</td>\n",
              "      <td>0</td>\n",
              "    </tr>\n",
              "    <tr>\n",
              "      <th>3</th>\n",
              "      <td>2017-11-01 21:00:00</td>\n",
              "      <td>0</td>\n",
              "      <td>274.79</td>\n",
              "      <td>0</td>\n",
              "      <td>90</td>\n",
              "      <td>2</td>\n",
              "      <td>2017-11-01</td>\n",
              "      <td>1</td>\n",
              "      <td>11</td>\n",
              "      <td>2017</td>\n",
              "      <td>0</td>\n",
              "      <td>0</td>\n",
              "      <td>0</td>\n",
              "      <td>0</td>\n",
              "      <td>0</td>\n",
              "    </tr>\n",
              "    <tr>\n",
              "      <th>4</th>\n",
              "      <td>2017-11-01 22:00:00</td>\n",
              "      <td>0</td>\n",
              "      <td>275.08</td>\n",
              "      <td>0</td>\n",
              "      <td>90</td>\n",
              "      <td>2</td>\n",
              "      <td>2017-11-01</td>\n",
              "      <td>1</td>\n",
              "      <td>11</td>\n",
              "      <td>2017</td>\n",
              "      <td>0</td>\n",
              "      <td>0</td>\n",
              "      <td>0</td>\n",
              "      <td>1</td>\n",
              "      <td>0</td>\n",
              "    </tr>\n",
              "  </tbody>\n",
              "</table>\n",
              "</div>"
            ],
            "text/plain": [
              "            date_time  holiday    temp  snow_1h  ...  fog  haze mist  thunderstorm\n",
              "0 2017-11-01 20:00:00        0  274.75        0  ...    0     0    1             0\n",
              "1 2017-11-01 20:00:00        0  274.75        0  ...    0     0    0             0\n",
              "2 2017-11-01 21:00:00        0  274.79        0  ...    0     0    1             0\n",
              "3 2017-11-01 21:00:00        0  274.79        0  ...    0     0    0             0\n",
              "4 2017-11-01 22:00:00        0  275.08        0  ...    0     0    1             0\n",
              "\n",
              "[5 rows x 15 columns]"
            ]
          },
          "metadata": {
            "tags": []
          },
          "execution_count": 96
        }
      ]
    },
    {
      "cell_type": "code",
      "metadata": {
        "colab": {
          "base_uri": "https://localhost:8080/"
        },
        "id": "-GafJe-g01Pz",
        "outputId": "f0bd4937-4ca0-483f-cbc8-67a42155f0bd"
      },
      "source": [
        "test_c.info()"
      ],
      "execution_count": null,
      "outputs": [
        {
          "output_type": "stream",
          "text": [
            "<class 'pandas.core.frame.DataFrame'>\n",
            "RangeIndex: 9641 entries, 0 to 9640\n",
            "Data columns (total 15 columns):\n",
            " #   Column        Non-Null Count  Dtype         \n",
            "---  ------        --------------  -----         \n",
            " 0   date_time     9641 non-null   datetime64[ns]\n",
            " 1   holiday       9641 non-null   int64         \n",
            " 2   temp          9641 non-null   float64       \n",
            " 3   snow_1h       9641 non-null   int64         \n",
            " 4   clouds_all    9641 non-null   int64         \n",
            " 5   weekday       9641 non-null   int64         \n",
            " 6   date          9641 non-null   object        \n",
            " 7   hour          9641 non-null   int64         \n",
            " 8   month         9641 non-null   int64         \n",
            " 9   year          9641 non-null   int64         \n",
            " 10  rain_1h       9641 non-null   int64         \n",
            " 11  fog           9641 non-null   uint8         \n",
            " 12  haze          9641 non-null   uint8         \n",
            " 13  mist          9641 non-null   uint8         \n",
            " 14  thunderstorm  9641 non-null   uint8         \n",
            "dtypes: datetime64[ns](1), float64(1), int64(8), object(1), uint8(4)\n",
            "memory usage: 866.3+ KB\n"
          ],
          "name": "stdout"
        }
      ]
    },
    {
      "cell_type": "code",
      "metadata": {
        "id": "cr9zt_0t7Kex"
      },
      "source": [
        "TEST=test_c.drop(['date_time','date'],axis=1)\r\n"
      ],
      "execution_count": null,
      "outputs": []
    },
    {
      "cell_type": "code",
      "metadata": {
        "colab": {
          "base_uri": "https://localhost:8080/"
        },
        "id": "FphsSJpN_Tjl",
        "outputId": "23211b53-41b2-4957-a2f4-41aa46aa2602"
      },
      "source": [
        "TEST.shape"
      ],
      "execution_count": null,
      "outputs": [
        {
          "output_type": "execute_result",
          "data": {
            "text/plain": [
              "(9641, 13)"
            ]
          },
          "metadata": {
            "tags": []
          },
          "execution_count": 99
        }
      ]
    },
    {
      "cell_type": "code",
      "metadata": {
        "id": "ouyN0S2u_YKa"
      },
      "source": [
        "t1= sc.fit_transform(TEST)"
      ],
      "execution_count": null,
      "outputs": []
    },
    {
      "cell_type": "code",
      "metadata": {
        "colab": {
          "base_uri": "https://localhost:8080/"
        },
        "id": "y6u4VKAB_jz7",
        "outputId": "a69d696c-3f4f-407f-911e-8d53b59ddcec"
      },
      "source": [
        "t1"
      ],
      "execution_count": null,
      "outputs": [
        {
          "output_type": "execute_result",
          "data": {
            "text/plain": [
              "array([[-0.03674546, -0.42561304,  0.        , ..., -0.19892964,\n",
              "         2.49000991, -0.16941818],\n",
              "       [-0.03674546, -0.42561304,  0.        , ..., -0.19892964,\n",
              "        -0.40160483, -0.16941818],\n",
              "       [-0.03674546, -0.42271393,  0.        , ..., -0.19892964,\n",
              "         2.49000991, -0.16941818],\n",
              "       ...,\n",
              "       [-0.03674546,  0.15275831,  0.        , ..., -0.19892964,\n",
              "        -0.40160483,  5.90255442],\n",
              "       [-0.03674546,  0.10637263,  0.        , ..., -0.19892964,\n",
              "        -0.40160483, -0.16941818],\n",
              "       [-0.03674546,  0.10854696,  0.        , ..., -0.19892964,\n",
              "        -0.40160483, -0.16941818]])"
            ]
          },
          "metadata": {
            "tags": []
          },
          "execution_count": 101
        }
      ]
    },
    {
      "cell_type": "markdown",
      "metadata": {
        "id": "fpwn45v2adN-"
      },
      "source": [
        "# model bulding"
      ]
    },
    {
      "cell_type": "code",
      "metadata": {
        "id": "1r1sqYdXZQiC"
      },
      "source": [
        "#i am not dropping the nonimportant features\r\n",
        "from sklearn.model_selection import train_test_split\r\n",
        "X_train, X_test, y_train, y_test = train_test_split(X1, y, test_size = 0.2, random_state = 42,shuffle=True)"
      ],
      "execution_count": null,
      "outputs": []
    },
    {
      "cell_type": "code",
      "metadata": {
        "colab": {
          "base_uri": "https://localhost:8080/"
        },
        "id": "GHXtPGJ0Zta6",
        "outputId": "f3edbbeb-f147-4520-a6d7-601431fed739"
      },
      "source": [
        "X_train.shape"
      ],
      "execution_count": null,
      "outputs": [
        {
          "output_type": "execute_result",
          "data": {
            "text/plain": [
              "(30841, 13)"
            ]
          },
          "metadata": {
            "tags": []
          },
          "execution_count": 103
        }
      ]
    },
    {
      "cell_type": "markdown",
      "metadata": {
        "id": "Wi26Dmjzbq92"
      },
      "source": [
        "**Random forest**"
      ]
    },
    {
      "cell_type": "code",
      "metadata": {
        "id": "DY9T-lNvdG5b"
      },
      "source": [
        "from sklearn.model_selection import cross_val_score\r\n",
        "scoring = 'RMSE'\r\n",
        "#score = cross_val_score(clf, X_train, y_train, n_jobs=1, scoring=scoring)\r\n",
        "#print(score)"
      ],
      "execution_count": null,
      "outputs": []
    },
    {
      "cell_type": "code",
      "metadata": {
        "id": "mg094RQldUHn"
      },
      "source": [
        "from sklearn.model_selection import KFold\r\n",
        "k_fold = KFold(n_splits=10, shuffle=True, random_state=0)"
      ],
      "execution_count": null,
      "outputs": []
    },
    {
      "cell_type": "code",
      "metadata": {
        "colab": {
          "base_uri": "https://localhost:8080/"
        },
        "id": "t5ljMvn5Z8yo",
        "outputId": "d81d9288-c73f-488e-b5fa-873c73f9409e"
      },
      "source": [
        "from sklearn.ensemble import RandomForestRegressor\r\n",
        "\r\n",
        "reg_rf = RandomForestRegressor()\r\n",
        "reg_rf.fit(X_train, y_train)"
      ],
      "execution_count": null,
      "outputs": [
        {
          "output_type": "execute_result",
          "data": {
            "text/plain": [
              "RandomForestRegressor(bootstrap=True, ccp_alpha=0.0, criterion='mse',\n",
              "                      max_depth=None, max_features='auto', max_leaf_nodes=None,\n",
              "                      max_samples=None, min_impurity_decrease=0.0,\n",
              "                      min_impurity_split=None, min_samples_leaf=1,\n",
              "                      min_samples_split=2, min_weight_fraction_leaf=0.0,\n",
              "                      n_estimators=100, n_jobs=None, oob_score=False,\n",
              "                      random_state=None, verbose=0, warm_start=False)"
            ]
          },
          "metadata": {
            "tags": []
          },
          "execution_count": 106
        }
      ]
    },
    {
      "cell_type": "code",
      "metadata": {
        "id": "esOJ1FXSdgKW"
      },
      "source": [
        "#scoring = ''\r\n",
        "#score = cross_val_score(reg_rf, X_train, y_train, cv=k_fold, n_jobs=1, scoring=scoring)\r\n",
        "#print(score)"
      ],
      "execution_count": null,
      "outputs": []
    },
    {
      "cell_type": "code",
      "metadata": {
        "colab": {
          "base_uri": "https://localhost:8080/"
        },
        "id": "IOPHNWDJaIRP",
        "outputId": "61c4b938-c4c7-4e5b-c07c-cf74c9779def"
      },
      "source": [
        "reg_rf.score(X_train, y_train)"
      ],
      "execution_count": null,
      "outputs": [
        {
          "output_type": "execute_result",
          "data": {
            "text/plain": [
              "0.9623058515110057"
            ]
          },
          "metadata": {
            "tags": []
          },
          "execution_count": 108
        }
      ]
    },
    {
      "cell_type": "code",
      "metadata": {
        "id": "_zyAzGI7aD51"
      },
      "source": [
        "y_pred = reg_rf.predict(X_test)"
      ],
      "execution_count": null,
      "outputs": []
    },
    {
      "cell_type": "code",
      "metadata": {
        "colab": {
          "base_uri": "https://localhost:8080/"
        },
        "id": "Qpcp_GORbyFz",
        "outputId": "8c382456-e294-4a74-9316-83c7f02e3ccb"
      },
      "source": [
        "reg_rf.score(X_test, y_test)"
      ],
      "execution_count": null,
      "outputs": [
        {
          "output_type": "execute_result",
          "data": {
            "text/plain": [
              "0.7520714348373796"
            ]
          },
          "metadata": {
            "tags": []
          },
          "execution_count": 110
        }
      ]
    },
    {
      "cell_type": "code",
      "metadata": {
        "colab": {
          "base_uri": "https://localhost:8080/"
        },
        "id": "88i6zsOwaHzv",
        "outputId": "d7ed89f7-8947-497d-d0c3-276fc9ae2cee"
      },
      "source": [
        "from sklearn.metrics import mean_squared_error\r\n",
        "RMSE = np.sqrt(mean_squared_error(y_pred=y_pred,y_true=y_test))\r\n",
        "print(RMSE)"
      ],
      "execution_count": null,
      "outputs": [
        {
          "output_type": "stream",
          "text": [
            "990.3527245878241\n"
          ],
          "name": "stdout"
        }
      ]
    },
    {
      "cell_type": "code",
      "metadata": {
        "id": "VfleyZ7PSe-T"
      },
      "source": [
        "pr=reg_rf.predict(t1)"
      ],
      "execution_count": null,
      "outputs": []
    },
    {
      "cell_type": "code",
      "metadata": {
        "colab": {
          "base_uri": "https://localhost:8080/"
        },
        "id": "h8O6RV6RSoWq",
        "outputId": "91a2fe10-f515-472a-dc59-f38dfafd94de"
      },
      "source": [
        "pr"
      ],
      "execution_count": null,
      "outputs": [
        {
          "output_type": "execute_result",
          "data": {
            "text/plain": [
              "array([2215.29133333, 2215.29133333, 2082.35633333, ..., 1961.18      ,\n",
              "       1755.488     , 1755.488     ])"
            ]
          },
          "metadata": {
            "tags": []
          },
          "execution_count": 113
        }
      ]
    },
    {
      "cell_type": "code",
      "metadata": {
        "id": "Vcjmzh05SpfM"
      },
      "source": [
        "final_data1 = {'index':test.index,'traffic_volume': pr}\r\n",
        "submission1 = pd.DataFrame(data=final_data1)"
      ],
      "execution_count": null,
      "outputs": []
    },
    {
      "cell_type": "code",
      "metadata": {
        "colab": {
          "base_uri": "https://localhost:8080/",
          "height": 419
        },
        "id": "zCkrSU0lS9_y",
        "outputId": "a30fb8f6-c3bb-43bd-924a-ddea88dee791"
      },
      "source": [
        "submission1"
      ],
      "execution_count": null,
      "outputs": [
        {
          "output_type": "execute_result",
          "data": {
            "text/html": [
              "<div>\n",
              "<style scoped>\n",
              "    .dataframe tbody tr th:only-of-type {\n",
              "        vertical-align: middle;\n",
              "    }\n",
              "\n",
              "    .dataframe tbody tr th {\n",
              "        vertical-align: top;\n",
              "    }\n",
              "\n",
              "    .dataframe thead th {\n",
              "        text-align: right;\n",
              "    }\n",
              "</style>\n",
              "<table border=\"1\" class=\"dataframe\">\n",
              "  <thead>\n",
              "    <tr style=\"text-align: right;\">\n",
              "      <th></th>\n",
              "      <th>index</th>\n",
              "      <th>traffic_volume</th>\n",
              "    </tr>\n",
              "  </thead>\n",
              "  <tbody>\n",
              "    <tr>\n",
              "      <th>0</th>\n",
              "      <td>0</td>\n",
              "      <td>2215.291333</td>\n",
              "    </tr>\n",
              "    <tr>\n",
              "      <th>1</th>\n",
              "      <td>1</td>\n",
              "      <td>2215.291333</td>\n",
              "    </tr>\n",
              "    <tr>\n",
              "      <th>2</th>\n",
              "      <td>2</td>\n",
              "      <td>2082.356333</td>\n",
              "    </tr>\n",
              "    <tr>\n",
              "      <th>3</th>\n",
              "      <td>3</td>\n",
              "      <td>2082.356333</td>\n",
              "    </tr>\n",
              "    <tr>\n",
              "      <th>4</th>\n",
              "      <td>4</td>\n",
              "      <td>1772.768500</td>\n",
              "    </tr>\n",
              "    <tr>\n",
              "      <th>...</th>\n",
              "      <td>...</td>\n",
              "      <td>...</td>\n",
              "    </tr>\n",
              "    <tr>\n",
              "      <th>9636</th>\n",
              "      <td>9636</td>\n",
              "      <td>4023.415000</td>\n",
              "    </tr>\n",
              "    <tr>\n",
              "      <th>9637</th>\n",
              "      <td>9637</td>\n",
              "      <td>2153.050000</td>\n",
              "    </tr>\n",
              "    <tr>\n",
              "      <th>9638</th>\n",
              "      <td>9638</td>\n",
              "      <td>1961.180000</td>\n",
              "    </tr>\n",
              "    <tr>\n",
              "      <th>9639</th>\n",
              "      <td>9639</td>\n",
              "      <td>1755.488000</td>\n",
              "    </tr>\n",
              "    <tr>\n",
              "      <th>9640</th>\n",
              "      <td>9640</td>\n",
              "      <td>1755.488000</td>\n",
              "    </tr>\n",
              "  </tbody>\n",
              "</table>\n",
              "<p>9641 rows × 2 columns</p>\n",
              "</div>"
            ],
            "text/plain": [
              "      index  traffic_volume\n",
              "0         0     2215.291333\n",
              "1         1     2215.291333\n",
              "2         2     2082.356333\n",
              "3         3     2082.356333\n",
              "4         4     1772.768500\n",
              "...     ...             ...\n",
              "9636   9636     4023.415000\n",
              "9637   9637     2153.050000\n",
              "9638   9638     1961.180000\n",
              "9639   9639     1755.488000\n",
              "9640   9640     1755.488000\n",
              "\n",
              "[9641 rows x 2 columns]"
            ]
          },
          "metadata": {
            "tags": []
          },
          "execution_count": 115
        }
      ]
    },
    {
      "cell_type": "code",
      "metadata": {
        "id": "e_e7gszZTIo0"
      },
      "source": [
        "submission1.to_csv('submission.csv', index =False)"
      ],
      "execution_count": null,
      "outputs": []
    },
    {
      "cell_type": "markdown",
      "metadata": {
        "id": "xPYfAn4mcnyH"
      },
      "source": [
        "**GradientBoostingRegressor**"
      ]
    },
    {
      "cell_type": "code",
      "metadata": {
        "colab": {
          "base_uri": "https://localhost:8080/"
        },
        "id": "nDhPRuMsbfv3",
        "outputId": "8379ccb5-a2c7-4c29-ef19-e31aaf0ee59f"
      },
      "source": [
        "from sklearn.ensemble import GradientBoostingRegressor\r\n",
        "model = GradientBoostingRegressor()\r\n",
        "model.fit(X_train,y_train)"
      ],
      "execution_count": null,
      "outputs": [
        {
          "output_type": "execute_result",
          "data": {
            "text/plain": [
              "GradientBoostingRegressor(alpha=0.9, ccp_alpha=0.0, criterion='friedman_mse',\n",
              "                          init=None, learning_rate=0.1, loss='ls', max_depth=3,\n",
              "                          max_features=None, max_leaf_nodes=None,\n",
              "                          min_impurity_decrease=0.0, min_impurity_split=None,\n",
              "                          min_samples_leaf=1, min_samples_split=2,\n",
              "                          min_weight_fraction_leaf=0.0, n_estimators=100,\n",
              "                          n_iter_no_change=None, presort='deprecated',\n",
              "                          random_state=None, subsample=1.0, tol=0.0001,\n",
              "                          validation_fraction=0.1, verbose=0, warm_start=False)"
            ]
          },
          "metadata": {
            "tags": []
          },
          "execution_count": 117
        }
      ]
    },
    {
      "cell_type": "code",
      "metadata": {
        "colab": {
          "base_uri": "https://localhost:8080/"
        },
        "id": "fUMXvzfteiqX",
        "outputId": "0df9088e-dd13-428f-d44f-c2aa6f015e12"
      },
      "source": [
        "model.score(X_train, y_train)"
      ],
      "execution_count": null,
      "outputs": [
        {
          "output_type": "execute_result",
          "data": {
            "text/plain": [
              "0.7344897548899829"
            ]
          },
          "metadata": {
            "tags": []
          },
          "execution_count": 118
        }
      ]
    },
    {
      "cell_type": "code",
      "metadata": {
        "id": "MacJn0HZe6E7"
      },
      "source": [
        "y_pred1 = model.predict(X_test)"
      ],
      "execution_count": null,
      "outputs": []
    },
    {
      "cell_type": "code",
      "metadata": {
        "colab": {
          "base_uri": "https://localhost:8080/"
        },
        "id": "Nzl15NbkfFVp",
        "outputId": "6af8cda7-bc14-4ee9-b85a-e646bd4f8b08"
      },
      "source": [
        "RMSE = np.sqrt(mean_squared_error(y_pred=y_pred1,y_true=y_test))\r\n",
        "print(RMSE)"
      ],
      "execution_count": null,
      "outputs": [
        {
          "output_type": "stream",
          "text": [
            "1028.1744286110688\n"
          ],
          "name": "stdout"
        }
      ]
    },
    {
      "cell_type": "markdown",
      "metadata": {
        "id": "DCleHUYifNsl"
      },
      "source": [
        "**XGBRegressor**"
      ]
    },
    {
      "cell_type": "code",
      "metadata": {
        "colab": {
          "base_uri": "https://localhost:8080/"
        },
        "id": "Gqg7w2psfijs",
        "outputId": "3b895908-e57a-4d2a-aec7-ddcc57bfb7ed"
      },
      "source": [
        "from xgboost import XGBRegressor\r\n",
        "\r\n",
        "model1 = XGBRegressor()\r\n",
        "# fit the model on the whole dataset\r\n",
        "model1.fit(X_train, y_train)"
      ],
      "execution_count": null,
      "outputs": [
        {
          "output_type": "stream",
          "text": [
            "[08:35:40] WARNING: /workspace/src/objective/regression_obj.cu:152: reg:linear is now deprecated in favor of reg:squarederror.\n"
          ],
          "name": "stdout"
        },
        {
          "output_type": "execute_result",
          "data": {
            "text/plain": [
              "XGBRegressor(base_score=0.5, booster='gbtree', colsample_bylevel=1,\n",
              "             colsample_bynode=1, colsample_bytree=1, gamma=0,\n",
              "             importance_type='gain', learning_rate=0.1, max_delta_step=0,\n",
              "             max_depth=3, min_child_weight=1, missing=None, n_estimators=100,\n",
              "             n_jobs=1, nthread=None, objective='reg:linear', random_state=0,\n",
              "             reg_alpha=0, reg_lambda=1, scale_pos_weight=1, seed=None,\n",
              "             silent=None, subsample=1, verbosity=1)"
            ]
          },
          "metadata": {
            "tags": []
          },
          "execution_count": 121
        }
      ]
    },
    {
      "cell_type": "code",
      "metadata": {
        "colab": {
          "base_uri": "https://localhost:8080/"
        },
        "id": "p1u6KZmqgE5D",
        "outputId": "3778e4c0-8115-4e6a-c214-706031466930"
      },
      "source": [
        "model1.score(X_train, y_train)"
      ],
      "execution_count": null,
      "outputs": [
        {
          "output_type": "execute_result",
          "data": {
            "text/plain": [
              "0.7342177336619988"
            ]
          },
          "metadata": {
            "tags": []
          },
          "execution_count": 122
        }
      ]
    },
    {
      "cell_type": "code",
      "metadata": {
        "id": "eCXfrukPgIeE"
      },
      "source": [
        "y_pred2 = model1.predict(X_test)"
      ],
      "execution_count": null,
      "outputs": []
    },
    {
      "cell_type": "code",
      "metadata": {
        "colab": {
          "base_uri": "https://localhost:8080/"
        },
        "id": "HVKpaafNgMjf",
        "outputId": "ecc4d0d6-34e1-4e2c-a395-1b8ac3b54018"
      },
      "source": [
        "RMSE = np.sqrt(mean_squared_error(y_pred=y_pred2,y_true=y_test))\r\n",
        "print(RMSE)"
      ],
      "execution_count": null,
      "outputs": [
        {
          "output_type": "stream",
          "text": [
            "1028.222847343244\n"
          ],
          "name": "stdout"
        }
      ]
    },
    {
      "cell_type": "markdown",
      "metadata": {
        "id": "AZ9TRnj_gSIf"
      },
      "source": [
        "# Hyperparametertuning"
      ]
    }
  ]
}